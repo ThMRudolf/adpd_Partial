{
 "cells": [
  {
   "cell_type": "markdown",
   "id": "887998fc",
   "metadata": {},
   "source": [
    "# Parcial 1\n",
    "## Parte A\n",
    "En esta parte necesitarán levantar un cluster en AWS con Hadoop y Pyspark (Como lo hicimos en clase). Solo necesitan 1 cluster por equipo.\n",
    "\n",
    "El nombre de tu cluster debe ser cluster_ + la mátricula (número de estudiante) más chica de los miembros del equipo. Por ejemplo: cluster_54903.\n",
    "ETL con el Cluster.\n",
    "\n",
    "Deberán subir a S3 el archivo o archivos de la tabla que descarguen a S3.\n",
    "Carga el CSV en Spark\n",
    "Guarda el CSV como parquet en S3, particionalo por catalogo. (Utiliza todos los trucos que consideres).\n",
    "Carga el parquet en Spark\n"
   ]
  },
  {
   "cell_type": "markdown",
   "id": "53f34c8d",
   "metadata": {},
   "source": [
    "Contesta las siguientes preguntas utilizando PySpark. Realiza el siguiente análisis (por año) y sobre todos los catálogos.\n",
    "\n",
    "¿Cuántos catálogos diferentes tenemos?\n"
   ]
  },
  {
   "cell_type": "markdown",
   "id": "23043369",
   "metadata": {},
   "source": [
    "¿Cuáles son los 20 catálogos con más observaciones? Guarda la salida de este query en tu bucket de S3, lo necesitaremos más adelante.\n"
   ]
  },
  {
   "cell_type": "markdown",
   "id": "de624abe",
   "metadata": {},
   "source": [
    "¿Tenemos datos de todos los estados del país? De no ser así, ¿cuáles faltan?\n"
   ]
  },
  {
   "cell_type": "markdown",
   "id": "e59a0b60",
   "metadata": {},
   "source": [
    "¿Cuántas observaciones tenemos por estado?\n"
   ]
  },
  {
   "cell_type": "markdown",
   "id": "e72d1971",
   "metadata": {},
   "source": [
    "De cada estado obten: el número de catalogos diferentes por año, ¿ha aumentado el número de catálogos con el tiempo?\n",
    "Utilizando Spark contesta las siguientes preguntas a partir del catálogo que le tocó a tu equipo. Recuerda trabajar en el archivo con los datos particionados de otra manera tus queries van a tardar mucho.\n",
    "\n",
    "¿Cuańtas marcas diferentes tiene tu categoría?\n"
   ]
  },
  {
   "cell_type": "markdown",
   "id": "1deff60a",
   "metadata": {},
   "source": [
    "¿Cuál es la marca con mayor precio? ¿En qué estado?\n"
   ]
  },
  {
   "cell_type": "markdown",
   "id": "b0bf8e59",
   "metadata": {},
   "source": [
    "¿Cuál es la marca con menor precio en CDMX? (en aquel entonces Distrito Federal)\n"
   ]
  },
  {
   "cell_type": "markdown",
   "id": "119c0b23",
   "metadata": {},
   "source": [
    "¿Cuál es la marca con mayores observaciones?\n"
   ]
  },
  {
   "cell_type": "markdown",
   "id": "f6d77643",
   "metadata": {},
   "source": [
    "¿Cuáles son el top 5 de marcas con mayor precio en cada estado? ¿Son diferentes?\n"
   ]
  },
  {
   "cell_type": "markdown",
   "id": "6a27a77e",
   "metadata": {},
   "source": [
    "¿Cuáles son el top 5 de marcas con menor precio en CDMX? (en aquel entonces Distrito Federal)\n"
   ]
  },
  {
   "cell_type": "markdown",
   "id": "21610188",
   "metadata": {},
   "source": [
    "¿Cuáles son el top 5 de marcas con mayores observaciones? ¿Se parecen a las de nivel por estado?\n"
   ]
  },
  {
   "cell_type": "markdown",
   "id": "36c0b628",
   "metadata": {},
   "source": [
    "¿Ha dejado de existir alguna marca durante los años que tienes? ¿Cuál? ¿Cuándo desapareció?\n"
   ]
  },
  {
   "cell_type": "markdown",
   "id": "6be1af69",
   "metadata": {},
   "source": [
    "Genera una gráfica de serie de tiempo por estado para la marca con mayor precio -en todos los años-, donde el eje equis es el año y el eje ye es el precio máximo.\n",
    "Nota: Recuerden descargar del cluster su análisis en Jupyter, de otra manera se borrará.\n",
    "\n",
    "Hint: Guarda tus consultas en archivos que puedas guardar en S3 y luego leer desde Pandas o RStudio, para hacer tus gráficas o cuadros compartivos."
   ]
  }
 ],
 "metadata": {
  "language_info": {
   "name": "python"
  }
 },
 "nbformat": 4,
 "nbformat_minor": 5
}
