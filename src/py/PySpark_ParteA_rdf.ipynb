{
 "cells": [
  {
   "cell_type": "markdown",
   "id": "8eb89f2f",
   "metadata": {},
   "source": [
    "# Proyecto Parcial\n",
    "\n"
   ]
  },
  {
   "cell_type": "code",
   "execution_count": 11,
   "id": "e94c3962",
   "metadata": {},
   "outputs": [
    {
     "data": {
      "text/html": [
       "Current session configs: <tt>{'conf': {'spark.pyspark.python': 'python', 'spark.pyspark.virtualenv.enabled': 'true', 'spark.pyspark.virtualenv.type': 'native', 'spark.pyspark.virtualenv.bin.path': '/usr/bin/virtualenv'}, 'proxyUser': 'jovyan', 'kind': 'pyspark'}</tt><br>"
      ],
      "text/plain": [
       "<IPython.core.display.HTML object>"
      ]
     },
     "metadata": {},
     "output_type": "display_data"
    },
    {
     "data": {
      "text/html": [
       "<table>\n",
       "<tr><th>ID</th><th>YARN Application ID</th><th>Kind</th><th>State</th><th>Spark UI</th><th>Driver log</th><th>User</th><th>Current session?</th></tr><tr><td>1</td><td>application_1746231035121_0002</td><td>pyspark</td><td>idle</td><td><a target=\"_blank\" href=\"http://ip-172-31-3-247.ec2.internal:20888/proxy/application_1746231035121_0002/\">Link</a></td><td><a target=\"_blank\" href=\"http://ip-172-31-10-203.ec2.internal:8042/node/containerlogs/container_1746231035121_0002_01_000001/livy\">Link</a></td><td>None</td><td>✔</td></tr></table>"
      ],
      "text/plain": [
       "<IPython.core.display.HTML object>"
      ]
     },
     "metadata": {},
     "output_type": "display_data"
    }
   ],
   "source": [
    "%%info"
   ]
  },
  {
   "cell_type": "code",
   "execution_count": 12,
   "id": "fe28cb4d",
   "metadata": {},
   "outputs": [
    {
     "name": "stdout",
     "output_type": "stream",
     "text": [
      "Starting Spark application\n"
     ]
    },
    {
     "data": {
      "text/html": [
       "<table>\n",
       "<tr><th>ID</th><th>YARN Application ID</th><th>Kind</th><th>State</th><th>Spark UI</th><th>Driver log</th><th>User</th><th>Current session?</th></tr><tr><td>2</td><td>application_1746231035121_0003</td><td>pyspark</td><td>idle</td><td><a target=\"_blank\" href=\"http://ip-172-31-3-247.ec2.internal:20888/proxy/application_1746231035121_0003/\">Link</a></td><td><a target=\"_blank\" href=\"http://ip-172-31-15-72.ec2.internal:8042/node/containerlogs/container_1746231035121_0003_01_000001/livy\">Link</a></td><td>None</td><td>✔</td></tr></table>"
      ],
      "text/plain": [
       "<IPython.core.display.HTML object>"
      ]
     },
     "metadata": {},
     "output_type": "display_data"
    },
    {
     "data": {
      "application/vnd.jupyter.widget-view+json": {
       "model_id": "",
       "version_major": 2,
       "version_minor": 0
      },
      "text/plain": [
       "FloatProgress(value=0.0, bar_style='info', description='Progress:', layout=Layout(height='25px', width='50%'),…"
      ]
     },
     "metadata": {},
     "output_type": "display_data"
    },
    {
     "name": "stdout",
     "output_type": "stream",
     "text": [
      "SparkSession available as 'spark'.\n"
     ]
    },
    {
     "data": {
      "text/html": [
       "Current session configs: <tt>{'conf': {'spark.pyspark.python': 'python', 'spark.pyspark.virtualenv.enabled': 'true', 'spark.pyspark.virtualenv.type': 'native', 'spark.pyspark.virtualenv.bin.path': '/usr/bin/virtualenv'}, 'proxyUser': 'jovyan', 'kind': 'pyspark'}</tt><br>"
      ],
      "text/plain": [
       "<IPython.core.display.HTML object>"
      ]
     },
     "metadata": {},
     "output_type": "display_data"
    },
    {
     "data": {
      "text/html": [
       "<table>\n",
       "<tr><th>ID</th><th>YARN Application ID</th><th>Kind</th><th>State</th><th>Spark UI</th><th>Driver log</th><th>User</th><th>Current session?</th></tr><tr><td>2</td><td>application_1746231035121_0003</td><td>pyspark</td><td>idle</td><td><a target=\"_blank\" href=\"http://ip-172-31-3-247.ec2.internal:20888/proxy/application_1746231035121_0003/\">Link</a></td><td><a target=\"_blank\" href=\"http://ip-172-31-15-72.ec2.internal:8042/node/containerlogs/container_1746231035121_0003_01_000001/livy\">Link</a></td><td>None</td><td>✔</td></tr></table>"
      ],
      "text/plain": [
       "<IPython.core.display.HTML object>"
      ]
     },
     "metadata": {},
     "output_type": "display_data"
    }
   ],
   "source": [
    "%%configure -f\n",
    "{ \"conf\":{\n",
    "          \"spark.pyspark.python\": \"python\",\n",
    "          \"spark.pyspark.virtualenv.enabled\": \"true\",\n",
    "          \"spark.pyspark.virtualenv.type\":\"native\",\n",
    "          \"spark.pyspark.virtualenv.bin.path\":\"/usr/bin/virtualenv\"\n",
    "         }\n",
    "}"
   ]
  },
  {
   "cell_type": "code",
   "execution_count": 33,
   "id": "236a8c5a",
   "metadata": {
    "scrolled": true
   },
   "outputs": [
    {
     "data": {
      "application/vnd.jupyter.widget-view+json": {
       "model_id": "",
       "version_major": 2,
       "version_minor": 0
      },
      "text/plain": [
       "FloatProgress(value=0.0, bar_style='info', description='Progress:', layout=Layout(height='25px', width='50%'),…"
      ]
     },
     "metadata": {},
     "output_type": "display_data"
    }
   ],
   "source": [
    "# Importar librerías\n",
    "from pyspark.sql import SparkSession\n",
    "\n",
    "# Importar funciones únicas\n",
    "from pyspark.sql.functions import lit, col\n",
    "\n",
    "# Importar funciones con un alias, que pudieran \n",
    "# tener conflicto con las librerías base de Python, \n",
    "# como sum, avg, round, ...\n",
    "import pyspark.sql.functions as F\n",
    "from pyspark.sql.types import (\n",
    "    StructType, StringType, TimestampType, \n",
    "    StringType, StringType)\n",
    "\n",
    "\n",
    "raw_def_columns = StructType([\n",
    "    StructField(\"producto\", StringType(), True),\n",
    "    StructField(\"presentacion\", StringType(), True),\n",
    "    StructField(\"marca\", StringType(), True),\n",
    "    StructField(\"tipo\", StringType(), True),\n",
    "    StructField(\"catalogo\", StringType(), True),\n",
    "    StructField(\"precio\", StringType(), True),\n",
    "    StructField(\"fecha\", StringType(), True),\n",
    "    StructField(\"tienda\", StringType(), True),\n",
    "    StructField(\"tipo_tienda\", LongType(), True),\n",
    "    StructField(\"sucursal\", StringType(), True),\n",
    "    StructField(\"direccion\", StringType(), True),\n",
    "    StructField(\"estado\", StringType(), True),\n",
    "    StructField(\"ciudad\", StringType(), True),\n",
    "    StructField(\"latitud\", IntegerType(),True),\n",
    "    StructField(\"longitud\", IntegerType(), True)\n",
    "]) "
   ]
  },
  {
   "cell_type": "markdown",
   "id": "bcc7c1ef",
   "metadata": {},
   "source": [
    "Recuerda que vamos a trabajar con spark dataframes, por lo tanto tienes que abrir un SparkSession"
   ]
  },
  {
   "cell_type": "code",
   "execution_count": 35,
   "id": "706f8f87",
   "metadata": {},
   "outputs": [
    {
     "data": {
      "application/vnd.jupyter.widget-view+json": {
       "model_id": "",
       "version_major": 2,
       "version_minor": 0
      },
      "text/plain": [
       "FloatProgress(value=0.0, bar_style='info', description='Progress:', layout=Layout(height='25px', width='50%'),…"
      ]
     },
     "metadata": {},
     "output_type": "display_data"
    },
    {
     "name": "stderr",
     "output_type": "stream",
     "text": [
      "An error was encountered:\n",
      "Package already installed for current Spark context!\n",
      "Traceback (most recent call last):\n",
      "  File \"/mnt1/yarn/usercache/livy/appcache/application_1746231035121_0003/container_1746231035121_0003_01_000001/pyspark.zip/pyspark/context.py\", line 2614, in install_pypi_package\n",
      "    raise ValueError(\"Package already installed for current Spark context!\")\n",
      "ValueError: Package already installed for current Spark context!\n",
      "\n"
     ]
    }
   ],
   "source": [
    "spark._sc.install_pypi_package(\"pandas\")"
   ]
  },
  {
   "cell_type": "code",
   "execution_count": 36,
   "id": "d468deb9",
   "metadata": {},
   "outputs": [
    {
     "data": {
      "application/vnd.jupyter.widget-view+json": {
       "model_id": "",
       "version_major": 2,
       "version_minor": 0
      },
      "text/plain": [
       "FloatProgress(value=0.0, bar_style='info', description='Progress:', layout=Layout(height='25px', width='50%'),…"
      ]
     },
     "metadata": {},
     "output_type": "display_data"
    }
   ],
   "source": [
    "# bucket\n",
    "NAME = 'thmrudolf' ##CAMBIAR AQUÍ SU NOMBRE.\n",
    "BUCKET = f\"s3://itam-analytics-{NAME}\"\n",
    "FOLDER = 'profeco'\n",
    "\n",
    "\n",
    "# type of catalog\n",
    "CATALOG_TYPE = 'basicos'"
   ]
  },
  {
   "cell_type": "code",
   "execution_count": 47,
   "id": "e62172bd",
   "metadata": {
    "scrolled": true
   },
   "outputs": [
    {
     "data": {
      "application/vnd.jupyter.widget-view+json": {
       "model_id": "",
       "version_major": 2,
       "version_minor": 0
      },
      "text/plain": [
       "FloatProgress(value=0.0, bar_style='info', description='Progress:', layout=Layout(height='25px', width='50%'),…"
      ]
     },
     "metadata": {},
     "output_type": "display_data"
    }
   ],
   "source": [
    "#Descarga de datos de S3\n",
    "raw_df = spark.read.csv(f\"{BUCKET}/{FOLDER}/raw_descomprimidos/*/*.csv\", \n",
    "                        header=True, \n",
    "                        inferSchema=True, \n",
    "                       schema=raw_def_columns)\n"
   ]
  },
  {
   "cell_type": "code",
   "execution_count": 50,
   "id": "a93d3bdf",
   "metadata": {
    "scrolled": true
   },
   "outputs": [
    {
     "data": {
      "application/vnd.jupyter.widget-view+json": {
       "model_id": "",
       "version_major": 2,
       "version_minor": 0
      },
      "text/plain": [
       "FloatProgress(value=0.0, bar_style='info', description='Progress:', layout=Layout(height='25px', width='50%'),…"
      ]
     },
     "metadata": {},
     "output_type": "display_data"
    },
    {
     "name": "stdout",
     "output_type": "stream",
     "text": [
      "root\n",
      " |-- producto: string (nullable = true)\n",
      " |-- presentacion: string (nullable = true)\n",
      " |-- marca: string (nullable = true)\n",
      " |-- tipo: string (nullable = true)\n",
      " |-- catalogo: string (nullable = true)\n",
      " |-- precio: string (nullable = true)\n",
      " |-- fecha: string (nullable = true)\n",
      " |-- tienda: string (nullable = true)\n",
      " |-- tipo_tienda: long (nullable = true)\n",
      " |-- sucursal: string (nullable = true)\n",
      " |-- direccion: string (nullable = true)\n",
      " |-- estado: string (nullable = true)\n",
      " |-- ciudad: string (nullable = true)\n",
      " |-- latitud: integer (nullable = true)\n",
      " |-- longitud: integer (nullable = true)"
     ]
    }
   ],
   "source": [
    "raw_df.printSchema()\n"
   ]
  },
  {
   "cell_type": "markdown",
   "id": "3655370c",
   "metadata": {},
   "source": []
  },
  {
   "cell_type": "code",
   "execution_count": 51,
   "id": "b8cc677e",
   "metadata": {
    "scrolled": true
   },
   "outputs": [
    {
     "data": {
      "application/vnd.jupyter.widget-view+json": {
       "model_id": "",
       "version_major": 2,
       "version_minor": 0
      },
      "text/plain": [
       "FloatProgress(value=0.0, bar_style='info', description='Progress:', layout=Layout(height='25px', width='50%'),…"
      ]
     },
     "metadata": {},
     "output_type": "display_data"
    },
    {
     "name": "stdout",
     "output_type": "stream",
     "text": [
      "[('producto', 'string'), ('presentacion', 'string'), ('marca', 'string'), ('tipo', 'string'), ('catalogo', 'string'), ('precio', 'string'), ('fecha', 'date'), ('tienda', 'string'), ('tipo_tienda', 'bigint'), ('sucursal', 'string'), ('direccion', 'string'), ('estado', 'string'), ('ciudad', 'string'), ('latitud', 'int'), ('longitud', 'int')]"
     ]
    }
   ],
   "source": [
    "\n",
    "#Cambiamos tipo a variable fecha\n",
    "# Convertimos columnas a tipo correcto\n",
    "from pyspark.sql.functions import to_date, col\n",
    "\n",
    "\n",
    "raw_df = raw_df.withColumn(\"fecha\", to_date(col(\"fecha\"), \"yyyy-MM-dd\"))\n",
    "# Revisamos que esté todo en orden\n",
    "print(raw_df.dtypes)"
   ]
  },
  {
   "cell_type": "code",
   "execution_count": 54,
   "id": "c993ff49",
   "metadata": {},
   "outputs": [
    {
     "data": {
      "application/vnd.jupyter.widget-view+json": {
       "model_id": "",
       "version_major": 2,
       "version_minor": 0
      },
      "text/plain": [
       "FloatProgress(value=0.0, bar_style='info', description='Progress:', layout=Layout(height='25px', width='50%'),…"
      ]
     },
     "metadata": {},
     "output_type": "display_data"
    },
    {
     "name": "stdout",
     "output_type": "stream",
     "text": [
      "[('producto', 'string'), ('presentacion', 'string'), ('marca', 'string'), ('tipo', 'string'), ('catalogo', 'string'), ('precio', 'string'), ('fecha', 'date'), ('tienda', 'string'), ('tipo_tienda', 'bigint'), ('sucursal', 'string'), ('direccion', 'string'), ('estado', 'string'), ('ciudad', 'string'), ('latitud', 'int'), ('longitud', 'int')]"
     ]
    }
   ],
   "source": [
    "#Eliminamos las columnas dirección, latitud y longitud\n",
    "raw_df.drop('direccion', 'latitud', 'longitud')\n",
    "\n",
    "print(raw_df.dtypes)"
   ]
  },
  {
   "cell_type": "code",
   "execution_count": 55,
   "id": "f4f2b37a",
   "metadata": {},
   "outputs": [
    {
     "data": {
      "application/vnd.jupyter.widget-view+json": {
       "model_id": "",
       "version_major": 2,
       "version_minor": 0
      },
      "text/plain": [
       "FloatProgress(value=0.0, bar_style='info', description='Progress:', layout=Layout(height='25px', width='50%'),…"
      ]
     },
     "metadata": {},
     "output_type": "display_data"
    },
    {
     "name": "stdout",
     "output_type": "stream",
     "text": [
      "+------------------+--------------------+------------------+--------------------+-----------------+--------+----------+---------+-----------+--------------------+--------------------+--------------+--------------+-------+--------+\n",
      "|          producto|        presentacion|             marca|                tipo|         catalogo|  precio|     fecha|   tienda|tipo_tienda|            sucursal|           direccion|        estado|        ciudad|latitud|longitud|\n",
      "+------------------+--------------------+------------------+--------------------+-----------------+--------+----------+---------+-----------+--------------------+--------------------+--------------+--------------+-------+--------+\n",
      "|         batidoras|62647. manual. 6 ...|    hamilton beach| aparatos electricos|electrodomesticos|  799.00|2018-07-09|liverpool|       NULL|liverpool sucursa...|zacatecas nte. 85...|aguascalientes|aguascalientes|   NULL|    NULL|\n",
      "|         batidoras|2532 ó 2532-013. ...|             oster| aparatos electricos|electrodomesticos|  699.00|2018-07-09|liverpool|       NULL|liverpool sucursa...|zacatecas nte. 85...|aguascalientes|aguascalientes|   NULL|    NULL|\n",
      "|         batidoras|fpsthb2610w o fps...|             oster| aparatos electricos|electrodomesticos|  569.00|2018-07-09|liverpool|       NULL|liverpool sucursa...|zacatecas nte. 85...|aguascalientes|aguascalientes|   NULL|    NULL|\n",
      "|         batidoras|fpsthb2615r o fps...|             oster| aparatos electricos|electrodomesticos|  949.00|2018-07-09|liverpool|       NULL|liverpool sucursa...|zacatecas nte. 85...|aguascalientes|aguascalientes|   NULL|    NULL|\n",
      "|         batidoras|fpsths2611 ó fpst...|             oster| aparatos electricos|electrodomesticos| 1149.00|2018-07-09|liverpool|       NULL|liverpool sucursa...|zacatecas nte. 85...|aguascalientes|aguascalientes|   NULL|    NULL|\n",
      "|bocinas portátiles|fh 4. usb y bluet...|                lg|aparatos electron...|electrodomesticos| 3779.00|2018-07-09|liverpool|       NULL|liverpool sucursa...|zacatecas nte. 85...|aguascalientes|aguascalientes|   NULL|    NULL|\n",
      "|bocinas portátiles|mhc-v11. cd's 1, ...|              sony|aparatos electron...|electrodomesticos| 3999.00|2018-07-09|liverpool|       NULL|liverpool sucursa...|zacatecas nte. 85...|aguascalientes|aguascalientes|   NULL|    NULL|\n",
      "|         cafeteras|49615. capacidad ...|    hamilton beach| aparatos electricos|electrodomesticos|  789.00|2018-07-09|liverpool|       NULL|liverpool sucursa...|zacatecas nte. 85...|aguascalientes|aguascalientes|   NULL|    NULL|\n",
      "|         cafeteras|bvstdcmvx23 ó bvs...|             oster| aparatos electricos|electrodomesticos| 1049.00|2018-07-09|liverpool|       NULL|liverpool sucursa...|zacatecas nte. 85...|aguascalientes|aguascalientes|   NULL|    NULL|\n",
      "| camaras digitales|eos 77d. megapixe...|             canon|aparatos electron...|electrodomesticos|29834.00|2018-07-09|liverpool|       NULL|liverpool sucursa...|zacatecas nte. 85...|aguascalientes|aguascalientes|   NULL|    NULL|\n",
      "| camaras digitales|eos 80d. megapixe...|             canon|aparatos electron...|electrodomesticos|35959.00|2018-07-09|liverpool|       NULL|liverpool sucursa...|zacatecas nte. 85...|aguascalientes|aguascalientes|   NULL|    NULL|\n",
      "| camaras digitales|eos rebel sl2. me...|             canon|aparatos electron...|electrodomesticos|16829.00|2018-07-09|liverpool|       NULL|liverpool sucursa...|zacatecas nte. 85...|aguascalientes|aguascalientes|   NULL|    NULL|\n",
      "| camaras digitales|eos rebel t6. meg...|             canon|aparatos electron...|electrodomesticos| 9944.00|2018-07-09|liverpool|       NULL|liverpool sucursa...|zacatecas nte. 85...|aguascalientes|aguascalientes|   NULL|    NULL|\n",
      "| camaras digitales|instax mini 9. le...|fujifilm. fine pix|aparatos electron...|electrodomesticos| 2069.00|2018-07-09|liverpool|       NULL|liverpool sucursa...|zacatecas nte. 85...|aguascalientes|aguascalientes|   NULL|    NULL|\n",
      "| camaras digitales|xp 120. mega pixe...|fujifilm. fine pix|aparatos electron...|electrodomesticos| 5399.00|2018-07-09|liverpool|       NULL|liverpool sucursa...|zacatecas nte. 85...|aguascalientes|aguascalientes|   NULL|    NULL|\n",
      "| camaras digitales|d3400. mega pixel...|             nikon|aparatos electron...|electrodomesticos|13499.00|2018-07-09|liverpool|       NULL|liverpool sucursa...|zacatecas nte. 85...|aguascalientes|aguascalientes|   NULL|    NULL|\n",
      "| camaras digitales|d7200. megapixele...|             nikon|aparatos electron...|electrodomesticos|34919.00|2018-07-09|liverpool|       NULL|liverpool sucursa...|zacatecas nte. 85...|aguascalientes|aguascalientes|   NULL|    NULL|\n",
      "| camaras digitales|b700. mega pixele...|    nikon. coolpix|aparatos electron...|electrodomesticos|12419.00|2018-07-09|liverpool|       NULL|liverpool sucursa...|zacatecas nte. 85...|aguascalientes|aguascalientes|   NULL|    NULL|\n",
      "| camaras digitales|p900. mega pixele...|    nikon. coolpix|aparatos electron...|electrodomesticos|15209.00|2018-07-09|liverpool|       NULL|liverpool sucursa...|zacatecas nte. 85...|aguascalientes|aguascalientes|   NULL|    NULL|\n",
      "| camaras digitales|w300. megapixeles...|    nikon. coolpix|aparatos electron...|electrodomesticos|10169.00|2018-07-09|liverpool|       NULL|liverpool sucursa...|zacatecas nte. 85...|aguascalientes|aguascalientes|   NULL|    NULL|\n",
      "+------------------+--------------------+------------------+--------------------+-----------------+--------+----------+---------+-----------+--------------------+--------------------+--------------+--------------+-------+--------+\n",
      "only showing top 20 rows"
     ]
    }
   ],
   "source": [
    "#Convertimos el contenido a minúsculas for col in raw_df.columns: \n",
    "\n",
    "from pyspark.sql.functions import lower, col\n",
    "\n",
    "# Convert all string columns to lowercase\n",
    "for column in raw_df.columns:\n",
    "    raw_df = raw_df.withColumn(column, lower(col(column)))\n",
    "\n",
    "raw_df.show()"
   ]
  },
  {
   "cell_type": "code",
   "execution_count": 56,
   "id": "b34517f7",
   "metadata": {},
   "outputs": [
    {
     "data": {
      "application/vnd.jupyter.widget-view+json": {
       "model_id": "",
       "version_major": 2,
       "version_minor": 0
      },
      "text/plain": [
       "FloatProgress(value=0.0, bar_style='info', description='Progress:', layout=Layout(height='25px', width='50%'),…"
      ]
     },
     "metadata": {},
     "output_type": "display_data"
    },
    {
     "name": "stdout",
     "output_type": "stream",
     "text": [
      "+---------+--------------------+--------------+-------------------+-----------------+-------+----------+---------+-----------+--------------------+--------------------+--------------+--------------+-------+--------+\n",
      "| producto|        presentacion|         marca|               tipo|         catalogo| precio|     fecha|   tienda|tipo_tienda|            sucursal|           direccion|        estado|        ciudad|latitud|longitud|\n",
      "+---------+--------------------+--------------+-------------------+-----------------+-------+----------+---------+-----------+--------------------+--------------------+--------------+--------------+-------+--------+\n",
      "|batidoras|62647. manual. 6 ...|hamilton beach|aparatos electricos|electrodomesticos| 799.00|2018-07-09|liverpool|       NULL|liverpool sucursa...|zacatecas nte. 85...|aguascalientes|aguascalientes|   NULL|    NULL|\n",
      "|batidoras|2532  2532-013. m...|         oster|aparatos electricos|electrodomesticos| 699.00|2018-07-09|liverpool|       NULL|liverpool sucursa...|zacatecas nte. 85...|aguascalientes|aguascalientes|   NULL|    NULL|\n",
      "|batidoras|fpsthb2610w o fps...|         oster|aparatos electricos|electrodomesticos| 569.00|2018-07-09|liverpool|       NULL|liverpool sucursa...|zacatecas nte. 85...|aguascalientes|aguascalientes|   NULL|    NULL|\n",
      "|batidoras|fpsthb2615r o fps...|         oster|aparatos electricos|electrodomesticos| 949.00|2018-07-09|liverpool|       NULL|liverpool sucursa...|zacatecas nte. 85...|aguascalientes|aguascalientes|   NULL|    NULL|\n",
      "|batidoras|fpsths2611  fpsth...|         oster|aparatos electricos|electrodomesticos|1149.00|2018-07-09|liverpool|       NULL|liverpool sucursa...|zacatecas nte. 85...|aguascalientes|aguascalientes|   NULL|    NULL|\n",
      "+---------+--------------------+--------------+-------------------+-----------------+-------+----------+---------+-----------+--------------------+--------------------+--------------+--------------+-------+--------+\n",
      "only showing top 5 rows"
     ]
    }
   ],
   "source": [
    "#Eliminamos acentos en las columnas\n",
    "from pyspark.sql.functions import regexp_replace, col\n",
    "\n",
    "# List of string columns to normalize\n",
    "string_columns = [field.name for field in raw_df.schema.fields if field.dataType.simpleString() == \"string\"]\n",
    "\n",
    "# Apply normalization\n",
    "for column in string_columns:\n",
    "    raw_df = raw_df.withColumn(column, regexp_replace(col(column), \"[^\\\\x00-\\\\x7F]\", \"\"))\n",
    "\n",
    "raw_df.show(5)  # Show first 5 rows"
   ]
  },
  {
   "cell_type": "code",
   "execution_count": 57,
   "id": "89e09b76",
   "metadata": {},
   "outputs": [
    {
     "data": {
      "application/vnd.jupyter.widget-view+json": {
       "model_id": "",
       "version_major": 2,
       "version_minor": 0
      },
      "text/plain": [
       "FloatProgress(value=0.0, bar_style='info', description='Progress:', layout=Layout(height='25px', width='50%'),…"
      ]
     },
     "metadata": {},
     "output_type": "display_data"
    },
    {
     "name": "stdout",
     "output_type": "stream",
     "text": [
      "+-----------+--------------------+---------+--------------------+------+----------+---------------+-----------+--------------------+--------------------+--------------+--------------+-------+--------+--------+\n",
      "|   producto|        presentacion|    marca|                tipo|precio|     fecha|         tienda|tipo_tienda|            sucursal|           direccion|        estado|        ciudad|latitud|longitud|catalogo|\n",
      "+-----------+--------------------+---------+--------------------+------+----------+---------------+-----------+--------------------+--------------------+--------------+--------------+-------+--------+--------+\n",
      "|     aceite| botella 1 lt. mixto|    1-2-3|aceites y grasas ...| 23.87|2018-07-09|   mega soriana|       NULL|mega soriana sucu...|aguascalientes nt...|aguascalientes|aguascalientes|   NULL|    NULL| basicos|\n",
      "|desodorante|barra 45 gr. tapa...|     dove|arts. para el cui...| 41.75|2018-09-27|mercado soriana|       NULL|mercado soriana s...|blvd. diaz ordaz ...|       chiapas|     tapachula|   NULL|    NULL| basicos|\n",
      "|     aceite|botella 840 ml. c...|  capullo|aceites y grasas ...| 31.50|2018-07-09|   mega soriana|       NULL|mega soriana sucu...|aguascalientes nt...|aguascalientes|aguascalientes|   NULL|    NULL| basicos|\n",
      "|desodorante|barra 82 gr. clea...| gillette|arts. para el cui...| 53.00|2018-09-27|mercado soriana|       NULL|mercado soriana s...|blvd. diaz ordaz ...|       chiapas|     tapachula|   NULL|    NULL| basicos|\n",
      "|     aceite|botella 946 ml. maiz|la gloria|aceites y grasas ...| 39.30|2018-07-09|   mega soriana|       NULL|mega soriana sucu...|aguascalientes nt...|aguascalientes|aguascalientes|   NULL|    NULL| basicos|\n",
      "+-----------+--------------------+---------+--------------------+------+----------+---------------+-----------+--------------------+--------------------+--------------+--------------+-------+--------+--------+\n",
      "only showing top 5 rows"
     ]
    }
   ],
   "source": [
    "#Subimos los datos a S3 en formato parquet\n",
    "raw_df.repartition(\"catalogo\") \\\n",
    "  .write.mode(\"overwrite\") \\\n",
    "  .partitionBy(\"catalogo\") \\\n",
    "  .option(\"compression\", \"snappy\") \\\n",
    "  .parquet(f\"{BUCKET}/{FOLDER}/parquet\")\n",
    "# Comprobamos que se haya subido correctamente\n",
    "df = spark.read.parquet(f\"{BUCKET}/{FOLDER}/parquet\")\n",
    "df.show(5)\n"
   ]
  },
  {
   "cell_type": "code",
   "execution_count": null,
   "id": "beed8e23",
   "metadata": {},
   "outputs": [],
   "source": []
  }
 ],
 "metadata": {
  "kernelspec": {
   "display_name": "PySpark",
   "language": "python",
   "name": "pysparkkernel"
  },
  "language_info": {
   "codemirror_mode": {
    "name": "python",
    "version": 3
   },
   "file_extension": ".py",
   "mimetype": "text/x-python",
   "name": "pyspark",
   "pygments_lexer": "python3"
  }
 },
 "nbformat": 4,
 "nbformat_minor": 5
}
