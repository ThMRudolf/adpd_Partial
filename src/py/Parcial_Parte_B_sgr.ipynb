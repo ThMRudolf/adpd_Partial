{
 "cells": [
  {
   "cell_type": "markdown",
   "id": "d9ef6073",
   "metadata": {},
   "source": [
    "\n",
    "## Parte B\n",
    "\n"
   ]
  },
  {
   "cell_type": "code",
   "execution_count": 3,
   "id": "61d1c8f7",
   "metadata": {},
   "outputs": [],
   "source": [
    "import os\n",
    "import boto3\n",
    "import awswrangler as wr\n",
    "import pandas as pd\n",
    "import numpy as np\n",
    "import yaml\n",
    "import awswrangler as wr\n",
    "import matplotlib.pyplot as plt\n",
    "import seaborn as sns\n",
    "from pyathena import connect"
   ]
  },
  {
   "cell_type": "code",
   "execution_count": 7,
   "id": "cab85a1f",
   "metadata": {},
   "outputs": [],
   "source": [
    "session = boto3.Session(region_name=\"us-east-1\")\n",
    "s3 = session.client(\"s3\")\n",
    "\n",
    "# Definir las variables de entorno necesarias para AWS\n",
    "os.environ[\"AWS_DEFAULT_REGION\"] = \"us-east-1\"\n",
    "\n",
    "# Tu configuración personalizada\n",
    "BUCKET_NAME = \"itam-analytics-sofia\"\n",
    "FOLDER_NAME = \"profeco/athena_queries\"         # Carpeta para guardar queries\n",
    "FILE = \"query_basicos.sql\"                     # Nombre del archivo SQL\n",
    "\n",
    "# Athena\n",
    "DATABASE_NAME = \"profeco_db\"\n",
    "TABLE_NAME = \"profeco\"\n",
    "BUCKET_QUERY = f\"s3://{BUCKET_NAME}/athena_staging/\"  # Carpeta para resultados temporales de Athena\n"
   ]
  },
  {
   "cell_type": "code",
   "execution_count": 8,
   "id": "ace380ca",
   "metadata": {},
   "outputs": [
    {
     "name": "stderr",
     "output_type": "stream",
     "text": [
      "/var/folders/8v/p9jmdytd6y36kdsq55l4_cqw0000gn/T/ipykernel_37036/656886452.py:6: UserWarning: pandas only supports SQLAlchemy connectable (engine/connection) or database string URI or sqlite3 DBAPI2 connection. Other DBAPI2 objects are not tested. Please consider using SQLAlchemy.\n",
      "  df = pd.read_sql(f\"SELECT * FROM {DATABASE_NAME}.{TABLE_NAME} LIMIT 10\", conn)\n"
     ]
    },
    {
     "name": "stdout",
     "output_type": "stream",
     "text": [
      "  producto marca                 tipo     precio       fecha  \\\n",
      "0  mojarra   s/m  pescados y mariscos  84.900002  2019-01-09   \n",
      "1  mojarra   s/m  pescados y mariscos  82.900002  2018-08-07   \n",
      "2  mojarra   s/m  pescados y mariscos  59.900002  2019-01-09   \n",
      "3  mojarra   s/m  pescados y mariscos  86.000000  2019-01-10   \n",
      "4  mojarra   s/m  pescados y mariscos  82.900002  2018-08-09   \n",
      "\n",
      "                estado    ciudad             catalogo  anio  \n",
      "0      baja california  ensenada  pescados y mariscos  2019  \n",
      "1  baja california sur    la paz  pescados y mariscos  2018  \n",
      "2      baja california  ensenada  pescados y mariscos  2019  \n",
      "3      baja california  ensenada  pescados y mariscos  2019  \n",
      "4  baja california sur    la paz  pescados y mariscos  2018  \n"
     ]
    }
   ],
   "source": [
    "from pyathena import connect\n",
    "import pandas as pd\n",
    "\n",
    "conn = connect(s3_staging_dir=BUCKET_QUERY, region_name=\"us-east-1\")\n",
    "\n",
    "df = pd.read_sql(f\"SELECT * FROM {DATABASE_NAME}.{TABLE_NAME} LIMIT 10\", conn)\n",
    "print(df.head())\n"
   ]
  },
  {
   "cell_type": "markdown",
   "id": "ea596504",
   "metadata": {},
   "source": [
    "------"
   ]
  },
  {
   "cell_type": "markdown",
   "id": "6fe64dda",
   "metadata": {},
   "source": [
    "¿De qué año a qué año tienes datos de la categoría?"
   ]
  },
  {
   "cell_type": "code",
   "execution_count": 13,
   "id": "ea96e632",
   "metadata": {},
   "outputs": [
    {
     "name": "stderr",
     "output_type": "stream",
     "text": [
      "/var/folders/8v/p9jmdytd6y36kdsq55l4_cqw0000gn/T/ipykernel_37036/2835520016.py:7: UserWarning: pandas only supports SQLAlchemy connectable (engine/connection) or database string URI or sqlite3 DBAPI2 connection. Other DBAPI2 objects are not tested. Please consider using SQLAlchemy.\n",
      "  df_rango_anios = pd.read_sql(query_rango_anios, conn)\n"
     ]
    },
    {
     "data": {
      "application/vnd.microsoft.datawrangler.viewer.v0+json": {
       "columns": [
        {
         "name": "index",
         "rawType": "int64",
         "type": "integer"
        },
        {
         "name": "anio_min",
         "rawType": "int64",
         "type": "integer"
        },
        {
         "name": "anio_max",
         "rawType": "int64",
         "type": "integer"
        }
       ],
       "conversionMethod": "pd.DataFrame",
       "ref": "a65a9c07-9da6-4b7f-a894-9969adf7a9e2",
       "rows": [
        [
         "0",
         "2018",
         "2024"
        ]
       ],
       "shape": {
        "columns": 2,
        "rows": 1
       }
      },
      "text/html": [
       "<div>\n",
       "<style scoped>\n",
       "    .dataframe tbody tr th:only-of-type {\n",
       "        vertical-align: middle;\n",
       "    }\n",
       "\n",
       "    .dataframe tbody tr th {\n",
       "        vertical-align: top;\n",
       "    }\n",
       "\n",
       "    .dataframe thead th {\n",
       "        text-align: right;\n",
       "    }\n",
       "</style>\n",
       "<table border=\"1\" class=\"dataframe\">\n",
       "  <thead>\n",
       "    <tr style=\"text-align: right;\">\n",
       "      <th></th>\n",
       "      <th>anio_min</th>\n",
       "      <th>anio_max</th>\n",
       "    </tr>\n",
       "  </thead>\n",
       "  <tbody>\n",
       "    <tr>\n",
       "      <th>0</th>\n",
       "      <td>2018</td>\n",
       "      <td>2024</td>\n",
       "    </tr>\n",
       "  </tbody>\n",
       "</table>\n",
       "</div>"
      ],
      "text/plain": [
       "   anio_min  anio_max\n",
       "0      2018      2024"
      ]
     },
     "execution_count": 13,
     "metadata": {},
     "output_type": "execute_result"
    }
   ],
   "source": [
    "query_rango_anios = \"\"\"\n",
    "SELECT MIN(anio) AS anio_min, MAX(anio) AS anio_max\n",
    "FROM profeco_db.profeco\n",
    "WHERE catalogo = 'basicos'\n",
    "\"\"\"\n",
    "\n",
    "df_rango_anios = pd.read_sql(query_rango_anios, conn)\n",
    "df_rango_anios\n",
    "\n"
   ]
  },
  {
   "cell_type": "markdown",
   "id": "436af186",
   "metadata": {},
   "source": [
    "¿Cuántos registros de fecha hay vacíos?\n"
   ]
  },
  {
   "cell_type": "code",
   "execution_count": 14,
   "id": "cffe93c8",
   "metadata": {},
   "outputs": [
    {
     "name": "stderr",
     "output_type": "stream",
     "text": [
      "/var/folders/8v/p9jmdytd6y36kdsq55l4_cqw0000gn/T/ipykernel_37036/1345368731.py:7: UserWarning: pandas only supports SQLAlchemy connectable (engine/connection) or database string URI or sqlite3 DBAPI2 connection. Other DBAPI2 objects are not tested. Please consider using SQLAlchemy.\n",
      "  df_fechas_nulas = pd.read_sql(query_fechas_nulas, conn)\n"
     ]
    },
    {
     "data": {
      "application/vnd.microsoft.datawrangler.viewer.v0+json": {
       "columns": [
        {
         "name": "index",
         "rawType": "int64",
         "type": "integer"
        },
        {
         "name": "registros_fecha_vacia",
         "rawType": "int64",
         "type": "integer"
        }
       ],
       "conversionMethod": "pd.DataFrame",
       "ref": "ad24c227-7926-4b84-9396-cfceb93b4c25",
       "rows": [
        [
         "0",
         "0"
        ]
       ],
       "shape": {
        "columns": 1,
        "rows": 1
       }
      },
      "text/html": [
       "<div>\n",
       "<style scoped>\n",
       "    .dataframe tbody tr th:only-of-type {\n",
       "        vertical-align: middle;\n",
       "    }\n",
       "\n",
       "    .dataframe tbody tr th {\n",
       "        vertical-align: top;\n",
       "    }\n",
       "\n",
       "    .dataframe thead th {\n",
       "        text-align: right;\n",
       "    }\n",
       "</style>\n",
       "<table border=\"1\" class=\"dataframe\">\n",
       "  <thead>\n",
       "    <tr style=\"text-align: right;\">\n",
       "      <th></th>\n",
       "      <th>registros_fecha_vacia</th>\n",
       "    </tr>\n",
       "  </thead>\n",
       "  <tbody>\n",
       "    <tr>\n",
       "      <th>0</th>\n",
       "      <td>0</td>\n",
       "    </tr>\n",
       "  </tbody>\n",
       "</table>\n",
       "</div>"
      ],
      "text/plain": [
       "   registros_fecha_vacia\n",
       "0                      0"
      ]
     },
     "execution_count": 14,
     "metadata": {},
     "output_type": "execute_result"
    }
   ],
   "source": [
    "query_fechas_nulas = \"\"\"\n",
    "SELECT COUNT(*) AS registros_fecha_vacia\n",
    "FROM profeco_db.profeco\n",
    "WHERE catalogo = 'basicos' AND fecha IS NULL\n",
    "\"\"\"\n",
    "\n",
    "df_fechas_nulas = pd.read_sql(query_fechas_nulas, conn)\n",
    "df_fechas_nulas\n"
   ]
  },
  {
   "cell_type": "markdown",
   "id": "7895537e",
   "metadata": {},
   "source": [
    "¿Cuántos registros tienes por año?\n"
   ]
  },
  {
   "cell_type": "code",
   "execution_count": 15,
   "id": "3510cbf0",
   "metadata": {},
   "outputs": [
    {
     "name": "stderr",
     "output_type": "stream",
     "text": [
      "/var/folders/8v/p9jmdytd6y36kdsq55l4_cqw0000gn/T/ipykernel_37036/1326948483.py:9: UserWarning: pandas only supports SQLAlchemy connectable (engine/connection) or database string URI or sqlite3 DBAPI2 connection. Other DBAPI2 objects are not tested. Please consider using SQLAlchemy.\n",
      "  df_registros_anio = pd.read_sql(query_registros_anio, conn)\n"
     ]
    },
    {
     "data": {
      "application/vnd.microsoft.datawrangler.viewer.v0+json": {
       "columns": [
        {
         "name": "index",
         "rawType": "int64",
         "type": "integer"
        },
        {
         "name": "anio",
         "rawType": "int64",
         "type": "integer"
        },
        {
         "name": "total_observaciones",
         "rawType": "int64",
         "type": "integer"
        }
       ],
       "conversionMethod": "pd.DataFrame",
       "ref": "f24868d0-391a-40e0-b80d-e85d998668d6",
       "rows": [
        [
         "0",
         "2018",
         "8802747"
        ],
        [
         "1",
         "2019",
         "7398860"
        ],
        [
         "2",
         "2020",
         "6170515"
        ],
        [
         "3",
         "2021",
         "6919470"
        ],
        [
         "4",
         "2022",
         "7945081"
        ],
        [
         "5",
         "2023",
         "7742108"
        ],
        [
         "6",
         "2024",
         "1986577"
        ]
       ],
       "shape": {
        "columns": 2,
        "rows": 7
       }
      },
      "text/html": [
       "<div>\n",
       "<style scoped>\n",
       "    .dataframe tbody tr th:only-of-type {\n",
       "        vertical-align: middle;\n",
       "    }\n",
       "\n",
       "    .dataframe tbody tr th {\n",
       "        vertical-align: top;\n",
       "    }\n",
       "\n",
       "    .dataframe thead th {\n",
       "        text-align: right;\n",
       "    }\n",
       "</style>\n",
       "<table border=\"1\" class=\"dataframe\">\n",
       "  <thead>\n",
       "    <tr style=\"text-align: right;\">\n",
       "      <th></th>\n",
       "      <th>anio</th>\n",
       "      <th>total_observaciones</th>\n",
       "    </tr>\n",
       "  </thead>\n",
       "  <tbody>\n",
       "    <tr>\n",
       "      <th>0</th>\n",
       "      <td>2018</td>\n",
       "      <td>8802747</td>\n",
       "    </tr>\n",
       "    <tr>\n",
       "      <th>1</th>\n",
       "      <td>2019</td>\n",
       "      <td>7398860</td>\n",
       "    </tr>\n",
       "    <tr>\n",
       "      <th>2</th>\n",
       "      <td>2020</td>\n",
       "      <td>6170515</td>\n",
       "    </tr>\n",
       "    <tr>\n",
       "      <th>3</th>\n",
       "      <td>2021</td>\n",
       "      <td>6919470</td>\n",
       "    </tr>\n",
       "    <tr>\n",
       "      <th>4</th>\n",
       "      <td>2022</td>\n",
       "      <td>7945081</td>\n",
       "    </tr>\n",
       "    <tr>\n",
       "      <th>5</th>\n",
       "      <td>2023</td>\n",
       "      <td>7742108</td>\n",
       "    </tr>\n",
       "    <tr>\n",
       "      <th>6</th>\n",
       "      <td>2024</td>\n",
       "      <td>1986577</td>\n",
       "    </tr>\n",
       "  </tbody>\n",
       "</table>\n",
       "</div>"
      ],
      "text/plain": [
       "   anio  total_observaciones\n",
       "0  2018              8802747\n",
       "1  2019              7398860\n",
       "2  2020              6170515\n",
       "3  2021              6919470\n",
       "4  2022              7945081\n",
       "5  2023              7742108\n",
       "6  2024              1986577"
      ]
     },
     "execution_count": 15,
     "metadata": {},
     "output_type": "execute_result"
    }
   ],
   "source": [
    "query_registros_anio = \"\"\"\n",
    "SELECT anio, COUNT(*) AS total_observaciones\n",
    "FROM profeco_db.profeco\n",
    "WHERE catalogo = 'basicos'\n",
    "GROUP BY anio\n",
    "ORDER BY anio\n",
    "\"\"\"\n",
    "\n",
    "df_registros_anio = pd.read_sql(query_registros_anio, conn)\n",
    "df_registros_anio\n"
   ]
  },
  {
   "cell_type": "markdown",
   "id": "91bbd4aa",
   "metadata": {},
   "source": [
    "¿Cuál es el precio mínimo, máximo, promedio, desviación estándar, mediana, cuantil 25 y 75% de tu categoría por año??\n"
   ]
  },
  {
   "cell_type": "code",
   "execution_count": 16,
   "id": "e0a57cb5",
   "metadata": {},
   "outputs": [
    {
     "name": "stderr",
     "output_type": "stream",
     "text": [
      "/var/folders/8v/p9jmdytd6y36kdsq55l4_cqw0000gn/T/ipykernel_37036/1841337668.py:17: UserWarning: pandas only supports SQLAlchemy connectable (engine/connection) or database string URI or sqlite3 DBAPI2 connection. Other DBAPI2 objects are not tested. Please consider using SQLAlchemy.\n",
      "  df_estadisticas_precio = pd.read_sql(query_estadisticas_precio, conn)\n"
     ]
    },
    {
     "data": {
      "application/vnd.microsoft.datawrangler.viewer.v0+json": {
       "columns": [
        {
         "name": "index",
         "rawType": "int64",
         "type": "integer"
        },
        {
         "name": "anio",
         "rawType": "int64",
         "type": "integer"
        },
        {
         "name": "precio_min",
         "rawType": "float64",
         "type": "float"
        },
        {
         "name": "precio_max",
         "rawType": "float64",
         "type": "float"
        },
        {
         "name": "precio_prom",
         "rawType": "float64",
         "type": "float"
        },
        {
         "name": "precio_std",
         "rawType": "float64",
         "type": "float"
        },
        {
         "name": "q25",
         "rawType": "float64",
         "type": "float"
        },
        {
         "name": "mediana",
         "rawType": "float64",
         "type": "float"
        },
        {
         "name": "q75",
         "rawType": "float64",
         "type": "float"
        }
       ],
       "conversionMethod": "pd.DataFrame",
       "ref": "1bfb00d2-fc1a-4a44-85fe-c533c87f7abb",
       "rows": [
        [
         "0",
         "2018",
         "1.0",
         "899.0",
         "46.44670814437036",
         "48.80709152170223",
         "16.927554223183694",
         "29.899801169275126",
         "54.26899531467429"
        ],
        [
         "1",
         "2019",
         "1.0",
         "659.9000244140625",
         "47.61715139566971",
         "50.49866892016815",
         "16.96120528972663",
         "30.466559785531995",
         "56.152509544848"
        ],
        [
         "2",
         "2020",
         "1.0",
         "844.9000244140625",
         "51.22346711080019",
         "53.187705924064716",
         "18.837810815074043",
         "32.91188689177781",
         "61.33954480789324"
        ],
        [
         "3",
         "2021",
         "1.0",
         "798.9000244140625",
         "53.788600248819776",
         "56.237501519347",
         "19.91944011282641",
         "34.08195534616552",
         "64.55145038063522"
        ],
        [
         "4",
         "2022",
         "1.0",
         "690.0",
         "59.717037478246795",
         "62.38389304391531",
         "22.739022883426365",
         "38.73968862053958",
         "71.26539319582751"
        ],
        [
         "5",
         "2023",
         "1.2000000476837158",
         "869.0",
         "65.7014683738961",
         "68.85144121350483",
         "24.53632206586391",
         "41.95878187951239",
         "79.50810054145657"
        ],
        [
         "6",
         "2024",
         "1.2999999523162842",
         "799.0",
         "66.91176275244423",
         "70.21478294523796",
         "25.120559062626644",
         "42.541485883327695",
         "80.30308437200766"
        ]
       ],
       "shape": {
        "columns": 8,
        "rows": 7
       }
      },
      "text/html": [
       "<div>\n",
       "<style scoped>\n",
       "    .dataframe tbody tr th:only-of-type {\n",
       "        vertical-align: middle;\n",
       "    }\n",
       "\n",
       "    .dataframe tbody tr th {\n",
       "        vertical-align: top;\n",
       "    }\n",
       "\n",
       "    .dataframe thead th {\n",
       "        text-align: right;\n",
       "    }\n",
       "</style>\n",
       "<table border=\"1\" class=\"dataframe\">\n",
       "  <thead>\n",
       "    <tr style=\"text-align: right;\">\n",
       "      <th></th>\n",
       "      <th>anio</th>\n",
       "      <th>precio_min</th>\n",
       "      <th>precio_max</th>\n",
       "      <th>precio_prom</th>\n",
       "      <th>precio_std</th>\n",
       "      <th>q25</th>\n",
       "      <th>mediana</th>\n",
       "      <th>q75</th>\n",
       "    </tr>\n",
       "  </thead>\n",
       "  <tbody>\n",
       "    <tr>\n",
       "      <th>0</th>\n",
       "      <td>2018</td>\n",
       "      <td>1.0</td>\n",
       "      <td>899.000000</td>\n",
       "      <td>46.446708</td>\n",
       "      <td>48.807092</td>\n",
       "      <td>16.927554</td>\n",
       "      <td>29.899801</td>\n",
       "      <td>54.268995</td>\n",
       "    </tr>\n",
       "    <tr>\n",
       "      <th>1</th>\n",
       "      <td>2019</td>\n",
       "      <td>1.0</td>\n",
       "      <td>659.900024</td>\n",
       "      <td>47.617151</td>\n",
       "      <td>50.498669</td>\n",
       "      <td>16.961205</td>\n",
       "      <td>30.466560</td>\n",
       "      <td>56.152510</td>\n",
       "    </tr>\n",
       "    <tr>\n",
       "      <th>2</th>\n",
       "      <td>2020</td>\n",
       "      <td>1.0</td>\n",
       "      <td>844.900024</td>\n",
       "      <td>51.223467</td>\n",
       "      <td>53.187706</td>\n",
       "      <td>18.837811</td>\n",
       "      <td>32.911887</td>\n",
       "      <td>61.339545</td>\n",
       "    </tr>\n",
       "    <tr>\n",
       "      <th>3</th>\n",
       "      <td>2021</td>\n",
       "      <td>1.0</td>\n",
       "      <td>798.900024</td>\n",
       "      <td>53.788600</td>\n",
       "      <td>56.237502</td>\n",
       "      <td>19.919440</td>\n",
       "      <td>34.081955</td>\n",
       "      <td>64.551450</td>\n",
       "    </tr>\n",
       "    <tr>\n",
       "      <th>4</th>\n",
       "      <td>2022</td>\n",
       "      <td>1.0</td>\n",
       "      <td>690.000000</td>\n",
       "      <td>59.717037</td>\n",
       "      <td>62.383893</td>\n",
       "      <td>22.739023</td>\n",
       "      <td>38.739689</td>\n",
       "      <td>71.265393</td>\n",
       "    </tr>\n",
       "    <tr>\n",
       "      <th>5</th>\n",
       "      <td>2023</td>\n",
       "      <td>1.2</td>\n",
       "      <td>869.000000</td>\n",
       "      <td>65.701468</td>\n",
       "      <td>68.851441</td>\n",
       "      <td>24.536322</td>\n",
       "      <td>41.958782</td>\n",
       "      <td>79.508101</td>\n",
       "    </tr>\n",
       "    <tr>\n",
       "      <th>6</th>\n",
       "      <td>2024</td>\n",
       "      <td>1.3</td>\n",
       "      <td>799.000000</td>\n",
       "      <td>66.911763</td>\n",
       "      <td>70.214783</td>\n",
       "      <td>25.120559</td>\n",
       "      <td>42.541486</td>\n",
       "      <td>80.303084</td>\n",
       "    </tr>\n",
       "  </tbody>\n",
       "</table>\n",
       "</div>"
      ],
      "text/plain": [
       "   anio  precio_min  precio_max  precio_prom  precio_std        q25  \\\n",
       "0  2018         1.0  899.000000    46.446708   48.807092  16.927554   \n",
       "1  2019         1.0  659.900024    47.617151   50.498669  16.961205   \n",
       "2  2020         1.0  844.900024    51.223467   53.187706  18.837811   \n",
       "3  2021         1.0  798.900024    53.788600   56.237502  19.919440   \n",
       "4  2022         1.0  690.000000    59.717037   62.383893  22.739023   \n",
       "5  2023         1.2  869.000000    65.701468   68.851441  24.536322   \n",
       "6  2024         1.3  799.000000    66.911763   70.214783  25.120559   \n",
       "\n",
       "     mediana        q75  \n",
       "0  29.899801  54.268995  \n",
       "1  30.466560  56.152510  \n",
       "2  32.911887  61.339545  \n",
       "3  34.081955  64.551450  \n",
       "4  38.739689  71.265393  \n",
       "5  41.958782  79.508101  \n",
       "6  42.541486  80.303084  "
      ]
     },
     "execution_count": 16,
     "metadata": {},
     "output_type": "execute_result"
    }
   ],
   "source": [
    "query_estadisticas_precio = \"\"\"\n",
    "SELECT \n",
    "  anio,\n",
    "  MIN(precio) AS precio_min,\n",
    "  MAX(precio) AS precio_max,\n",
    "  AVG(precio) AS precio_prom,\n",
    "  STDDEV(precio) AS precio_std,\n",
    "  APPROX_PERCENTILE(precio, 0.25) AS q25,\n",
    "  APPROX_PERCENTILE(precio, 0.5) AS mediana,\n",
    "  APPROX_PERCENTILE(precio, 0.75) AS q75\n",
    "FROM profeco_db.profeco\n",
    "WHERE catalogo = 'basicos'\n",
    "GROUP BY anio\n",
    "ORDER BY anio\n",
    "\"\"\"\n",
    "\n",
    "df_estadisticas_precio = pd.read_sql(query_estadisticas_precio, conn)\n",
    "df_estadisticas_precio\n"
   ]
  },
  {
   "cell_type": "markdown",
   "id": "11055123",
   "metadata": {},
   "source": [
    "¿Cuáles son el top 5 de marcas con mayor precio en cada estado? ¿Verifica si te dió lo mismo en Spark?\n"
   ]
  },
  {
   "cell_type": "code",
   "execution_count": 17,
   "id": "6952cda5",
   "metadata": {},
   "outputs": [
    {
     "name": "stderr",
     "output_type": "stream",
     "text": [
      "/var/folders/8v/p9jmdytd6y36kdsq55l4_cqw0000gn/T/ipykernel_37036/2058197693.py:32: UserWarning: pandas only supports SQLAlchemy connectable (engine/connection) or database string URI or sqlite3 DBAPI2 connection. Other DBAPI2 objects are not tested. Please consider using SQLAlchemy.\n",
      "  df_top5_avg_precio_estado = pd.read_sql(query_top5_avg_precio_estado, conn)\n"
     ]
    },
    {
     "data": {
      "application/vnd.microsoft.datawrangler.viewer.v0+json": {
       "columns": [
        {
         "name": "index",
         "rawType": "int64",
         "type": "integer"
        },
        {
         "name": "marca",
         "rawType": "object",
         "type": "string"
        },
        {
         "name": "estado",
         "rawType": "object",
         "type": "string"
        },
        {
         "name": "precio_promedio",
         "rawType": "float64",
         "type": "float"
        },
        {
         "name": "row_num",
         "rawType": "int64",
         "type": "integer"
        }
       ],
       "conversionMethod": "pd.DataFrame",
       "ref": "707da581-e0bf-426f-80df-9b36ed3ec786",
       "rows": [
        [
         "0",
         "saba cup",
         "aguascalientes",
         "573.3541666666666",
         "1"
        ],
        [
         "1",
         "diva cup 2",
         "aguascalientes",
         "541.1099853515625",
         "2"
        ],
        [
         "2",
         "diva cup 1",
         "aguascalientes",
         "505.57666015625",
         "3"
        ],
        [
         "3",
         "jose cuervo tradicional",
         "aguascalientes",
         "368.82408640388707",
         "4"
        ],
        [
         "4",
         "torres 10",
         "aguascalientes",
         "321.29152831116636",
         "5"
        ]
       ],
       "shape": {
        "columns": 4,
        "rows": 5
       }
      },
      "text/html": [
       "<div>\n",
       "<style scoped>\n",
       "    .dataframe tbody tr th:only-of-type {\n",
       "        vertical-align: middle;\n",
       "    }\n",
       "\n",
       "    .dataframe tbody tr th {\n",
       "        vertical-align: top;\n",
       "    }\n",
       "\n",
       "    .dataframe thead th {\n",
       "        text-align: right;\n",
       "    }\n",
       "</style>\n",
       "<table border=\"1\" class=\"dataframe\">\n",
       "  <thead>\n",
       "    <tr style=\"text-align: right;\">\n",
       "      <th></th>\n",
       "      <th>marca</th>\n",
       "      <th>estado</th>\n",
       "      <th>precio_promedio</th>\n",
       "      <th>row_num</th>\n",
       "    </tr>\n",
       "  </thead>\n",
       "  <tbody>\n",
       "    <tr>\n",
       "      <th>0</th>\n",
       "      <td>saba cup</td>\n",
       "      <td>aguascalientes</td>\n",
       "      <td>573.354167</td>\n",
       "      <td>1</td>\n",
       "    </tr>\n",
       "    <tr>\n",
       "      <th>1</th>\n",
       "      <td>diva cup 2</td>\n",
       "      <td>aguascalientes</td>\n",
       "      <td>541.109985</td>\n",
       "      <td>2</td>\n",
       "    </tr>\n",
       "    <tr>\n",
       "      <th>2</th>\n",
       "      <td>diva cup 1</td>\n",
       "      <td>aguascalientes</td>\n",
       "      <td>505.576660</td>\n",
       "      <td>3</td>\n",
       "    </tr>\n",
       "    <tr>\n",
       "      <th>3</th>\n",
       "      <td>jose cuervo tradicional</td>\n",
       "      <td>aguascalientes</td>\n",
       "      <td>368.824086</td>\n",
       "      <td>4</td>\n",
       "    </tr>\n",
       "    <tr>\n",
       "      <th>4</th>\n",
       "      <td>torres 10</td>\n",
       "      <td>aguascalientes</td>\n",
       "      <td>321.291528</td>\n",
       "      <td>5</td>\n",
       "    </tr>\n",
       "  </tbody>\n",
       "</table>\n",
       "</div>"
      ],
      "text/plain": [
       "                     marca          estado  precio_promedio  row_num\n",
       "0                 saba cup  aguascalientes       573.354167        1\n",
       "1               diva cup 2  aguascalientes       541.109985        2\n",
       "2               diva cup 1  aguascalientes       505.576660        3\n",
       "3  jose cuervo tradicional  aguascalientes       368.824086        4\n",
       "4                torres 10  aguascalientes       321.291528        5"
      ]
     },
     "execution_count": 17,
     "metadata": {},
     "output_type": "execute_result"
    }
   ],
   "source": [
    "query_top5_avg_precio_estado = \"\"\"\n",
    "WITH avg_price_table AS (\n",
    "    SELECT\n",
    "        CASE \n",
    "            WHEN marca IN ('s/m', 'sin marca', 'cualquier marca') THEN 's/m' \n",
    "            ELSE marca \n",
    "        END AS marca_normalizada,\n",
    "        estado,\n",
    "        AVG(precio) AS precio_promedio\n",
    "    FROM profeco_db.profeco\n",
    "    WHERE catalogo = 'basicos' AND precio IS NOT NULL\n",
    "    GROUP BY 1, 2\n",
    "),\n",
    "top5_table AS (\n",
    "    SELECT\n",
    "        marca_normalizada,\n",
    "        estado,\n",
    "        precio_promedio,\n",
    "        ROW_NUMBER() OVER(PARTITION BY estado ORDER BY precio_promedio DESC) AS row_num\n",
    "    FROM avg_price_table\n",
    ")\n",
    "SELECT\n",
    "    marca_normalizada AS marca,\n",
    "    estado,\n",
    "    precio_promedio,\n",
    "    row_num\n",
    "FROM top5_table\n",
    "WHERE row_num <= 5\n",
    "ORDER BY estado, row_num;\n",
    "\"\"\"\n",
    "\n",
    "df_top5_avg_precio_estado = pd.read_sql(query_top5_avg_precio_estado, conn)\n",
    "df_top5_avg_precio_estado.head()\n"
   ]
  },
  {
   "cell_type": "markdown",
   "id": "3c87782e",
   "metadata": {},
   "source": [
    "¿Cuáles son el top 5 de marcas con menor precio en CDMX? (en aquel entonces Distrito Federal) ¿Verifica si te dió lo mismo en Spark?\n"
   ]
  },
  {
   "cell_type": "code",
   "execution_count": 18,
   "id": "64da4ea1",
   "metadata": {},
   "outputs": [
    {
     "name": "stderr",
     "output_type": "stream",
     "text": [
      "/var/folders/8v/p9jmdytd6y36kdsq55l4_cqw0000gn/T/ipykernel_37036/151312075.py:27: UserWarning: pandas only supports SQLAlchemy connectable (engine/connection) or database string URI or sqlite3 DBAPI2 connection. Other DBAPI2 objects are not tested. Please consider using SQLAlchemy.\n",
      "  df_top5_cdmx = pd.read_sql(query_top5_cdmx, conn)\n"
     ]
    },
    {
     "data": {
      "application/vnd.microsoft.datawrangler.viewer.v0+json": {
       "columns": [
        {
         "name": "index",
         "rawType": "int64",
         "type": "integer"
        },
        {
         "name": "marca",
         "rawType": "object",
         "type": "string"
        },
        {
         "name": "precio_promedio",
         "rawType": "float64",
         "type": "float"
        }
       ],
       "conversionMethod": "pd.DataFrame",
       "ref": "5022e56b-0499-488a-8461-2b4373078b96",
       "rows": [
        [
         "0",
         "frutimax",
         "2.3564714899777206"
        ],
        [
         "1",
         "clight",
         "3.165304193614619"
        ],
        [
         "2",
         "livean",
         "3.331467661988083"
        ],
        [
         "3",
         "froot loops. kellogg s",
         "3.8732370057776713"
        ],
        [
         "4",
         "zuko",
         "4.149820934451669"
        ]
       ],
       "shape": {
        "columns": 2,
        "rows": 5
       }
      },
      "text/html": [
       "<div>\n",
       "<style scoped>\n",
       "    .dataframe tbody tr th:only-of-type {\n",
       "        vertical-align: middle;\n",
       "    }\n",
       "\n",
       "    .dataframe tbody tr th {\n",
       "        vertical-align: top;\n",
       "    }\n",
       "\n",
       "    .dataframe thead th {\n",
       "        text-align: right;\n",
       "    }\n",
       "</style>\n",
       "<table border=\"1\" class=\"dataframe\">\n",
       "  <thead>\n",
       "    <tr style=\"text-align: right;\">\n",
       "      <th></th>\n",
       "      <th>marca</th>\n",
       "      <th>precio_promedio</th>\n",
       "    </tr>\n",
       "  </thead>\n",
       "  <tbody>\n",
       "    <tr>\n",
       "      <th>0</th>\n",
       "      <td>frutimax</td>\n",
       "      <td>2.356471</td>\n",
       "    </tr>\n",
       "    <tr>\n",
       "      <th>1</th>\n",
       "      <td>clight</td>\n",
       "      <td>3.165304</td>\n",
       "    </tr>\n",
       "    <tr>\n",
       "      <th>2</th>\n",
       "      <td>livean</td>\n",
       "      <td>3.331468</td>\n",
       "    </tr>\n",
       "    <tr>\n",
       "      <th>3</th>\n",
       "      <td>froot loops. kellogg s</td>\n",
       "      <td>3.873237</td>\n",
       "    </tr>\n",
       "    <tr>\n",
       "      <th>4</th>\n",
       "      <td>zuko</td>\n",
       "      <td>4.149821</td>\n",
       "    </tr>\n",
       "  </tbody>\n",
       "</table>\n",
       "</div>"
      ],
      "text/plain": [
       "                    marca  precio_promedio\n",
       "0                frutimax         2.356471\n",
       "1                  clight         3.165304\n",
       "2                  livean         3.331468\n",
       "3  froot loops. kellogg s         3.873237\n",
       "4                    zuko         4.149821"
      ]
     },
     "execution_count": 18,
     "metadata": {},
     "output_type": "execute_result"
    }
   ],
   "source": [
    "query_top5_cdmx = \"\"\"\n",
    "WITH precios_cdmx AS (\n",
    "    SELECT\n",
    "        CASE \n",
    "            WHEN marca IN ('s/m', 'sin marca', 'cualquier marca') THEN 's/m'\n",
    "            ELSE marca\n",
    "        END AS marca_normalizada,\n",
    "        AVG(precio) AS precio_promedio\n",
    "    FROM profeco_db.profeco\n",
    "    WHERE estado = 'ciudad de mexico'\n",
    "      AND catalogo = 'basicos'\n",
    "      AND precio IS NOT NULL\n",
    "    GROUP BY 1\n",
    "),\n",
    "top5_menor_precio AS (\n",
    "    SELECT \n",
    "        *,\n",
    "        ROW_NUMBER() OVER (ORDER BY precio_promedio ASC) AS row_num\n",
    "    FROM precios_cdmx\n",
    ")\n",
    "SELECT marca_normalizada AS marca, precio_promedio\n",
    "FROM top5_menor_precio\n",
    "WHERE row_num <= 5\n",
    "ORDER BY precio_promedio ASC;\n",
    "\"\"\"\n",
    "\n",
    "df_top5_cdmx = pd.read_sql(query_top5_cdmx, conn)\n",
    "df_top5_cdmx.head()\n"
   ]
  },
  {
   "cell_type": "markdown",
   "id": "a68beb05",
   "metadata": {},
   "source": [
    "¿Cuáles son el top 5 de marcas con mayores observaciones? ¿Se parecen a las de nivel por estado? ¿Verifica si te dió lo mismo en Spark?\n"
   ]
  },
  {
   "cell_type": "code",
   "execution_count": 19,
   "id": "3c9f8e4e",
   "metadata": {},
   "outputs": [
    {
     "name": "stderr",
     "output_type": "stream",
     "text": [
      "/var/folders/8v/p9jmdytd6y36kdsq55l4_cqw0000gn/T/ipykernel_37036/506329511.py:20: UserWarning: pandas only supports SQLAlchemy connectable (engine/connection) or database string URI or sqlite3 DBAPI2 connection. Other DBAPI2 objects are not tested. Please consider using SQLAlchemy.\n",
      "  df_top5_obs = pd.read_sql(query_top5_mas_obs, conn)\n"
     ]
    },
    {
     "data": {
      "application/vnd.microsoft.datawrangler.viewer.v0+json": {
       "columns": [
        {
         "name": "index",
         "rawType": "int64",
         "type": "integer"
        },
        {
         "name": "marca",
         "rawType": "object",
         "type": "string"
        },
        {
         "name": "total_observaciones",
         "rawType": "int64",
         "type": "integer"
        }
       ],
       "conversionMethod": "pd.DataFrame",
       "ref": "b09029e5-76c5-4632-8fff-ff992f6a8ec5",
       "rows": [
        [
         "0",
         "s/m",
         "2762896"
        ],
        [
         "1",
         "la costena",
         "1311439"
        ],
        [
         "2",
         "fud",
         "1151109"
        ],
        [
         "3",
         "bimbo",
         "819491"
        ],
        [
         "4",
         "lala",
         "750135"
        ]
       ],
       "shape": {
        "columns": 2,
        "rows": 5
       }
      },
      "text/html": [
       "<div>\n",
       "<style scoped>\n",
       "    .dataframe tbody tr th:only-of-type {\n",
       "        vertical-align: middle;\n",
       "    }\n",
       "\n",
       "    .dataframe tbody tr th {\n",
       "        vertical-align: top;\n",
       "    }\n",
       "\n",
       "    .dataframe thead th {\n",
       "        text-align: right;\n",
       "    }\n",
       "</style>\n",
       "<table border=\"1\" class=\"dataframe\">\n",
       "  <thead>\n",
       "    <tr style=\"text-align: right;\">\n",
       "      <th></th>\n",
       "      <th>marca</th>\n",
       "      <th>total_observaciones</th>\n",
       "    </tr>\n",
       "  </thead>\n",
       "  <tbody>\n",
       "    <tr>\n",
       "      <th>0</th>\n",
       "      <td>s/m</td>\n",
       "      <td>2762896</td>\n",
       "    </tr>\n",
       "    <tr>\n",
       "      <th>1</th>\n",
       "      <td>la costena</td>\n",
       "      <td>1311439</td>\n",
       "    </tr>\n",
       "    <tr>\n",
       "      <th>2</th>\n",
       "      <td>fud</td>\n",
       "      <td>1151109</td>\n",
       "    </tr>\n",
       "    <tr>\n",
       "      <th>3</th>\n",
       "      <td>bimbo</td>\n",
       "      <td>819491</td>\n",
       "    </tr>\n",
       "    <tr>\n",
       "      <th>4</th>\n",
       "      <td>lala</td>\n",
       "      <td>750135</td>\n",
       "    </tr>\n",
       "  </tbody>\n",
       "</table>\n",
       "</div>"
      ],
      "text/plain": [
       "        marca  total_observaciones\n",
       "0         s/m              2762896\n",
       "1  la costena              1311439\n",
       "2         fud              1151109\n",
       "3       bimbo               819491\n",
       "4        lala               750135"
      ]
     },
     "execution_count": 19,
     "metadata": {},
     "output_type": "execute_result"
    }
   ],
   "source": [
    "query_top5_mas_obs = \"\"\"\n",
    "WITH marcas_limpias AS (\n",
    "    SELECT \n",
    "        CASE \n",
    "            WHEN marca IN ('s/m', 'sin marca', 'cualquier marca') THEN 's/m'\n",
    "            ELSE marca\n",
    "        END AS marca_normalizada\n",
    "    FROM profeco_db.profeco\n",
    "    WHERE catalogo = 'basicos'\n",
    ")\n",
    "SELECT \n",
    "    marca_normalizada AS marca,\n",
    "    COUNT(*) AS total_observaciones\n",
    "FROM marcas_limpias\n",
    "GROUP BY 1\n",
    "ORDER BY total_observaciones DESC\n",
    "LIMIT 5;\n",
    "\"\"\"\n",
    "\n",
    "df_top5_obs = pd.read_sql(query_top5_mas_obs, conn)\n",
    "df_top5_obs.head()\n"
   ]
  },
  {
   "cell_type": "code",
   "execution_count": 20,
   "id": "b1ab1af6",
   "metadata": {},
   "outputs": [
    {
     "name": "stderr",
     "output_type": "stream",
     "text": [
      "/var/folders/8v/p9jmdytd6y36kdsq55l4_cqw0000gn/T/ipykernel_37036/462689651.py:27: UserWarning: pandas only supports SQLAlchemy connectable (engine/connection) or database string URI or sqlite3 DBAPI2 connection. Other DBAPI2 objects are not tested. Please consider using SQLAlchemy.\n",
      "  df_top_marca_estado = pd.read_sql(query_top_marca_estado, conn)\n"
     ]
    },
    {
     "data": {
      "application/vnd.microsoft.datawrangler.viewer.v0+json": {
       "columns": [
        {
         "name": "index",
         "rawType": "int64",
         "type": "integer"
        },
        {
         "name": "estado",
         "rawType": "object",
         "type": "string"
        },
        {
         "name": "marca",
         "rawType": "object",
         "type": "string"
        },
        {
         "name": "total_obs",
         "rawType": "int64",
         "type": "integer"
        }
       ],
       "conversionMethod": "pd.DataFrame",
       "ref": "d8ca3911-14f0-4413-b9ee-4a9027c757df",
       "rows": [
        [
         "0",
         "ciudad de mexico",
         "s/m",
         "672470"
        ],
        [
         "1",
         "estado de mexico",
         "s/m",
         "451509"
        ],
        [
         "2",
         "jalisco",
         "s/m",
         "122279"
        ],
        [
         "3",
         "guanajuato",
         "s/m",
         "97015"
        ],
        [
         "4",
         "nuevo leon",
         "s/m",
         "86329"
        ]
       ],
       "shape": {
        "columns": 3,
        "rows": 5
       }
      },
      "text/html": [
       "<div>\n",
       "<style scoped>\n",
       "    .dataframe tbody tr th:only-of-type {\n",
       "        vertical-align: middle;\n",
       "    }\n",
       "\n",
       "    .dataframe tbody tr th {\n",
       "        vertical-align: top;\n",
       "    }\n",
       "\n",
       "    .dataframe thead th {\n",
       "        text-align: right;\n",
       "    }\n",
       "</style>\n",
       "<table border=\"1\" class=\"dataframe\">\n",
       "  <thead>\n",
       "    <tr style=\"text-align: right;\">\n",
       "      <th></th>\n",
       "      <th>estado</th>\n",
       "      <th>marca</th>\n",
       "      <th>total_obs</th>\n",
       "    </tr>\n",
       "  </thead>\n",
       "  <tbody>\n",
       "    <tr>\n",
       "      <th>0</th>\n",
       "      <td>ciudad de mexico</td>\n",
       "      <td>s/m</td>\n",
       "      <td>672470</td>\n",
       "    </tr>\n",
       "    <tr>\n",
       "      <th>1</th>\n",
       "      <td>estado de mexico</td>\n",
       "      <td>s/m</td>\n",
       "      <td>451509</td>\n",
       "    </tr>\n",
       "    <tr>\n",
       "      <th>2</th>\n",
       "      <td>jalisco</td>\n",
       "      <td>s/m</td>\n",
       "      <td>122279</td>\n",
       "    </tr>\n",
       "    <tr>\n",
       "      <th>3</th>\n",
       "      <td>guanajuato</td>\n",
       "      <td>s/m</td>\n",
       "      <td>97015</td>\n",
       "    </tr>\n",
       "    <tr>\n",
       "      <th>4</th>\n",
       "      <td>nuevo leon</td>\n",
       "      <td>s/m</td>\n",
       "      <td>86329</td>\n",
       "    </tr>\n",
       "  </tbody>\n",
       "</table>\n",
       "</div>"
      ],
      "text/plain": [
       "             estado marca  total_obs\n",
       "0  ciudad de mexico   s/m     672470\n",
       "1  estado de mexico   s/m     451509\n",
       "2           jalisco   s/m     122279\n",
       "3        guanajuato   s/m      97015\n",
       "4        nuevo leon   s/m      86329"
      ]
     },
     "execution_count": 20,
     "metadata": {},
     "output_type": "execute_result"
    }
   ],
   "source": [
    "query_top_marca_estado = \"\"\"\n",
    "WITH marcas_limpias AS (\n",
    "    SELECT \n",
    "        estado,\n",
    "        CASE \n",
    "            WHEN marca IN ('s/m', 'sin marca', 'cualquier marca') THEN 's/m'\n",
    "            ELSE marca\n",
    "        END AS marca_normalizada\n",
    "    FROM profeco_db.profeco\n",
    "    WHERE catalogo = 'basicos'\n",
    "),\n",
    "ranking AS (\n",
    "    SELECT \n",
    "        estado,\n",
    "        marca_normalizada AS marca,\n",
    "        COUNT(*) AS total_obs,\n",
    "        ROW_NUMBER() OVER (PARTITION BY estado ORDER BY COUNT(*) DESC) AS row_num\n",
    "    FROM marcas_limpias\n",
    "    GROUP BY estado, marca_normalizada\n",
    ")\n",
    "SELECT estado, marca, total_obs\n",
    "FROM ranking\n",
    "WHERE row_num <= 1\n",
    "ORDER BY total_obs DESC;\n",
    "\"\"\"\n",
    "\n",
    "df_top_marca_estado = pd.read_sql(query_top_marca_estado, conn)\n",
    "df_top_marca_estado.head()\n"
   ]
  },
  {
   "cell_type": "markdown",
   "id": "fbfad486",
   "metadata": {},
   "source": [
    "Genera un boxplot por año, para cada una de las top 5 marcas de tu categoría.\n"
   ]
  },
  {
   "cell_type": "code",
   "execution_count": 22,
   "id": "5b286dc4",
   "metadata": {},
   "outputs": [
    {
     "name": "stdout",
     "output_type": "stream",
     "text": [
      "Top 5 marcas: ['s/m', 'la costena', 'fud', 'bimbo', 'lala']\n"
     ]
    }
   ],
   "source": [
    "query_top5 = \"\"\"\n",
    "WITH marcas_limpias AS (\n",
    "    SELECT \n",
    "        CASE \n",
    "            WHEN marca IN ('s/m', 'sin marca', 'cualquier marca') THEN 's/m'\n",
    "            ELSE marca\n",
    "        END AS marca_normalizada\n",
    "    FROM profeco_db.profeco\n",
    "    WHERE catalogo = 'basicos'\n",
    ")\n",
    "SELECT \n",
    "    marca_normalizada AS marca,\n",
    "    COUNT(*) AS total_observaciones\n",
    "FROM marcas_limpias\n",
    "GROUP BY 1\n",
    "ORDER BY total_observaciones DESC\n",
    "LIMIT 5\n",
    "\"\"\"\n",
    "\n",
    "top5_df = wr.athena.read_sql_query(\n",
    "    sql=query_top5,\n",
    "    database=DATABASE_NAME,\n",
    "    boto3_session=session\n",
    ")\n",
    "\n",
    "top5_marcas = top5_df[\"marca\"].tolist()\n",
    "print(\"Top 5 marcas:\", top5_marcas)\n"
   ]
  },
  {
   "cell_type": "code",
   "execution_count": 23,
   "id": "134aa23a",
   "metadata": {},
   "outputs": [],
   "source": [
    "query_boxplot = f\"\"\"\n",
    "SELECT \n",
    "    anio,\n",
    "    marca,\n",
    "    precio\n",
    "FROM profeco_db.profeco\n",
    "WHERE catalogo = 'basicos'\n",
    "  AND marca IN ({','.join([f\"'{m}'\" for m in top5_marcas])})\n",
    "  AND precio IS NOT NULL\n",
    "  AND anio BETWEEN 2018 AND 2022\n",
    "\"\"\"\n",
    "\n",
    "df_boxplot = wr.athena.read_sql_query(\n",
    "    sql=query_boxplot,\n",
    "    database=DATABASE_NAME,\n",
    "    boto3_session=session\n",
    ")\n"
   ]
  },
  {
   "cell_type": "code",
   "execution_count": 24,
   "id": "9e23217f",
   "metadata": {},
   "outputs": [
    {
     "data": {
      "image/png": "[encoded data removed]",
      "text/plain": [
       "<Figure size 1400x700 with 1 Axes>"
      ]
     },
     "metadata": {},
     "output_type": "display_data"
    }
   ],
   "source": [
    "plt.figure(figsize=(14, 7))\n",
    "sns.boxplot(data=df_boxplot, x=\"anio\", y=\"precio\", hue=\"marca\")\n",
    "plt.title(\"Boxplot de precios por año para top 5 marcas\")\n",
    "plt.xlabel(\"Año\")\n",
    "plt.ylabel(\"Precio\")\n",
    "plt.legend(title=\"Marca\")\n",
    "plt.tight_layout()\n",
    "plt.show()\n"
   ]
  },
  {
   "cell_type": "markdown",
   "id": "8f93e9d9",
   "metadata": {},
   "source": []
  }
 ],
 "metadata": {
  "kernelspec": {
   "display_name": "arquitectura",
   "language": "python",
   "name": "python3"
  },
  "language_info": {
   "codemirror_mode": {
    "name": "ipython",
    "version": 3
   },
   "file_extension": ".py",
   "mimetype": "text/x-python",
   "name": "python",
   "nbconvert_exporter": "python",
   "pygments_lexer": "ipython3",
   "version": "3.11.11"
  }
 },
 "nbformat": 4,
 "nbformat_minor": 5
}
