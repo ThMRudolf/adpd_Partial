{
 "cells": [
  {
   "cell_type": "markdown",
   "id": "d9ef6073",
   "metadata": {},
   "source": [
    "\n",
    "## Parte B\n",
    "Apaguen su cluster de EMR, en esta parte no lo necesitarán. Para esta parte utilizaremos Athena.\n",
    "\n",
    "### Crea una base de datos profeco_db en Athena.\n"
   ]
  },
  {
   "cell_type": "code",
   "execution_count": 98,
   "id": "6986b04d",
   "metadata": {},
   "outputs": [],
   "source": [
    "import os\n",
    "import boto3\n",
    "import pandas as pd\n",
    "import awswrangler as wr\n",
    "import matplotlib.pyplot as plt\n",
    "from pyathena import connect\n",
    "import seaborn as sns\n"
   ]
  },
  {
   "cell_type": "code",
   "execution_count": 32,
   "id": "163aea59",
   "metadata": {},
   "outputs": [],
   "source": [
    "# Create AWS session - this needs to be available for all chunks\n",
    "session = boto3.Session(profile_name='arquitectura',\n",
    "                        region_name='us-east-1')"
   ]
  },
  {
   "cell_type": "code",
   "execution_count": 59,
   "id": "96b1c893",
   "metadata": {},
   "outputs": [
    {
     "name": "stdout",
     "output_type": "stream",
     "text": [
      "s3://itam-analytics-thmrudolf/profeco/df_complete_basicos\n"
     ]
    }
   ],
   "source": [
    "# bucket\n",
    "NAME = 'thmrudolf' ##CAMBIAR AQUÍ SU NOMBRE.\n",
    "BUCKET = f\"s3://itam-analytics-{NAME}\"\n",
    "FOLDER = 'profeco'\n",
    "SUBFOLDER = 'df_complete_basicos'\n",
    "\n",
    "FOLDER_SQL = 'profeco_sql'\n",
    "SQL_FILE = 'profeco_cat_basicos.sql'\n",
    "\n",
    "# type of catalog\n",
    "CATALOG_TYPE = 'basicos'\n",
    "\n",
    "# ATHENAS\n",
    "DATABASE_NAME = \"profeco_db\"\n",
    "TABLE_NAME = \"df_complete_basicos\"\n",
    "BUCKET_QUERY = f\"{BUCKET}/{FOLDER}/{SUBFOLDER}\"  # Carpeta para resultados temporales de Athena\n",
    "print(BUCKET_QUERY)"
   ]
  },
  {
   "cell_type": "markdown",
   "id": "af717467",
   "metadata": {},
   "source": [
    "Crea una tabla externa profeco dentro de la base de datos profeco_db.\\\n",
    "¡¡¡Recuerda crear la tabla profeco con la tabla particionada, de otra forma tus queries van a ser costosos!!!.\n"
   ]
  },
  {
   "cell_type": "code",
   "execution_count": 67,
   "id": "89d23dfa",
   "metadata": {},
   "outputs": [
    {
     "name": "stdout",
     "output_type": "stream",
     "text": [
      "  producto    marca                               tipo  precio       fecha  \\\n",
      "0   aceite   canoil  aceites y grasas veg. comestibles    44.0  2023-12-04   \n",
      "1   aceite   canoil  aceites y grasas veg. comestibles    27.0  2020-06-08   \n",
      "2   aceite  capullo  aceites y grasas veg. comestibles    27.9  2020-06-08   \n",
      "3   aceite    1-2-3  aceites y grasas veg. comestibles    28.0  2020-06-08   \n",
      "4   aceite    1-2-3  aceites y grasas veg. comestibles    45.0  2023-12-04   \n",
      "\n",
      "   ciudad catalogo               estado  anio  \n",
      "0  la paz  basicos  baja california sur  2023  \n",
      "1  la paz  basicos  baja california sur  2020  \n",
      "2  la paz  basicos  baja california sur  2020  \n",
      "3  la paz  basicos  baja california sur  2020  \n",
      "4  la paz  basicos  baja california sur  2023  \n"
     ]
    }
   ],
   "source": [
    "query_access = f'''\n",
    "SELECT *\n",
    "FROM {DATABASE_NAME}.{TABLE_NAME}\n",
    "LIMIT 5;\n",
    "'''\n",
    "result = wr.athena.read_sql_query(query_access, \n",
    "                                  database=DATABASE_NAME, \n",
    "                                  boto3_session=session)\n",
    "print(result)\n"
   ]
  },
  {
   "cell_type": "markdown",
   "id": "889389fb",
   "metadata": {},
   "source": [
    "A partir de la siguiente pregunta utiliza Athena desde R o Python:\n",
    "De acuerdo a la categoría que te haya tocado obtén (desde 2018 a 2022):\n",
    "\n",
    "¿De qué año a qué año tienen datos de esa categoría?\n"
   ]
  },
  {
   "cell_type": "code",
   "execution_count": 71,
   "id": "56460ff6",
   "metadata": {},
   "outputs": [
    {
     "name": "stdout",
     "output_type": "stream",
     "text": [
      "  min_ano max_ano\n",
      "0    2018    2024\n"
     ]
    }
   ],
   "source": [
    "query_year_range = '''\n",
    "SELECT MIN(anio) as min_ano, MAX(anio) as max_ano\n",
    "FROM df_complete_basicos\n",
    "'''\n",
    "result_years = wr.athena.read_sql_query(query_year_range, \n",
    "                        database=DATABASE_NAME, \n",
    "                        boto3_session=session)\n",
    "\n",
    "print(result_years)\n"
   ]
  },
  {
   "cell_type": "markdown",
   "id": "7895537e",
   "metadata": {},
   "source": [
    "¿Cuántos registros tienes por año?\n"
   ]
  },
  {
   "cell_type": "code",
   "execution_count": 72,
   "id": "ef79baa1",
   "metadata": {},
   "outputs": [
    {
     "name": "stdout",
     "output_type": "stream",
     "text": [
      "   anio  registros\n",
      "0  2018    8802747\n",
      "1  2019    7398860\n",
      "2  2020    6170515\n",
      "3  2021    6919470\n",
      "4  2022    7945081\n",
      "5  2023    7742108\n",
      "6  2024    1986577\n"
     ]
    }
   ],
   "source": [
    "query_registers_per_year = '''\n",
    "SELECT anio, COUNT(*) as registros\n",
    "FROM df_complete_basicos\n",
    "GROUP BY anio\n",
    "ORDER BY anio;\n",
    "'''\n",
    "result_registers_per_year = wr.athena.read_sql_query(query_registers_per_year, \n",
    "                        database=DATABASE_NAME, \n",
    "                        boto3_session=session)\n",
    "\n",
    "print(result_registers_per_year)"
   ]
  },
  {
   "cell_type": "markdown",
   "id": "91bbd4aa",
   "metadata": {},
   "source": [
    "\n",
    "¿Cuál es el precio mínimo, máximo, promedio, desviación estándar, mediana, Cuantil 25% y 75% de tu categoría por año?\n"
   ]
  },
  {
   "cell_type": "code",
   "execution_count": 79,
   "id": "482eafcd",
   "metadata": {},
   "outputs": [
    {
     "name": "stdout",
     "output_type": "stream",
     "text": [
      "   anio  precio_minimo  precio_maximo  precio_promedio  desviacion_estandar  \\\n",
      "0  2018            1.0     899.000000        46.446709            48.807092   \n",
      "1  2019            1.0     659.900024        47.617153            50.498669   \n",
      "2  2020            1.0     844.900024        51.223469            53.187706   \n",
      "3  2021            1.0     798.900024        53.788601            56.237502   \n",
      "4  2022            1.0     690.000000        59.717037            62.383893   \n",
      "5  2023            1.2     869.000000        65.701469            68.851441   \n",
      "6  2024            1.3     799.000000        66.911766            70.214783   \n",
      "\n",
      "     mediana  cuantil_25  cuantil_75  \n",
      "0  29.950165   16.890730   54.392941  \n",
      "1  30.508181   16.980560   56.179192  \n",
      "2  33.014835   18.652302   61.745338  \n",
      "3  34.189552   19.935793   64.047356  \n",
      "4  38.202869   22.824636   71.237511  \n",
      "5  42.759079   24.068304   80.284309  \n",
      "6  42.713570   25.464951   80.162155  \n"
     ]
    }
   ],
   "source": [
    "query_statistics_price = '''\n",
    "SELECT \n",
    "    anio,\n",
    "    MIN(precio) AS precio_minimo,\n",
    "    MAX(precio) AS precio_maximo,\n",
    "    AVG(precio) AS precio_promedio,\n",
    "    STDDEV(precio) AS desviacion_estandar,\n",
    "    APPROX_PERCENTILE(precio, 0.5) AS mediana,\n",
    "    APPROX_PERCENTILE(precio, 0.25) AS cuantil_25,\n",
    "    APPROX_PERCENTILE(precio, 0.75) AS cuantil_75\n",
    "FROM df_complete_basicos\n",
    "GROUP BY anio\n",
    "ORDER BY anio;\n",
    "'''\n",
    "result_statistics_price = wr.athena.read_sql_query(query_statistics_price, \n",
    "                        database=DATABASE_NAME, \n",
    "                        boto3_session=session)\n",
    "\n",
    "print(result_statistics_price)"
   ]
  },
  {
   "cell_type": "markdown",
   "id": "11055123",
   "metadata": {},
   "source": [
    "¿Cuáles son el top 5 de marcas con mayor precio en cada estado? ¿Verifica si te dió lo mismo en Spark?\n"
   ]
  },
  {
   "cell_type": "code",
   "execution_count": 84,
   "id": "a7835e27",
   "metadata": {},
   "outputs": [
    {
     "name": "stdout",
     "output_type": "stream",
     "text": [
      "             estado       marca  precio  rank\n",
      "0    aguascalientes    saba cup   609.0     1\n",
      "1    aguascalientes    saba cup   609.0     2\n",
      "2    aguascalientes    saba cup   609.0     3\n",
      "3    aguascalientes    saba cup   609.0     4\n",
      "4    aguascalientes    saba cup   609.0     5\n",
      "..              ...         ...     ...   ...\n",
      "155       zacatecas  diva cup 2   690.0     1\n",
      "156       zacatecas  diva cup 2   690.0     2\n",
      "157       zacatecas  diva cup 2   690.0     3\n",
      "158       zacatecas  diva cup 2   690.0     4\n",
      "159       zacatecas  diva cup 2   690.0     5\n",
      "\n",
      "[160 rows x 4 columns]\n"
     ]
    }
   ],
   "source": [
    "query_5Top_mayor_price = '''\n",
    "SELECT *\n",
    "FROM (\n",
    "    SELECT \n",
    "        estado,\n",
    "        marca,\n",
    "        precio,\n",
    "        ROW_NUMBER() OVER (PARTITION BY estado ORDER BY precio DESC) AS rank\n",
    "    FROM df_complete_basicos\n",
    ") ranked\n",
    "WHERE rank <= 5\n",
    "ORDER BY estado, rank;\n",
    "'''\n",
    "result_5Top_mayor_price = wr.athena.read_sql_query(query_5Top_mayor_price, \n",
    "                        database=DATABASE_NAME, \n",
    "                        boto3_session=session)\n",
    "\n",
    "print(result_5Top_mayor_price)"
   ]
  },
  {
   "cell_type": "markdown",
   "id": "3c87782e",
   "metadata": {},
   "source": [
    "¿Cuáles son el top 5 de marcas con menor precio en CDMX? (en aquel entonces Distrito Federal) ¿Verifica si te dió lo mismo en Spark?\n"
   ]
  },
  {
   "cell_type": "code",
   "execution_count": 86,
   "id": "8ebd65ec",
   "metadata": {},
   "outputs": [
    {
     "name": "stdout",
     "output_type": "stream",
     "text": [
      "             estado marca  precio  rank\n",
      "0  ciudad de mexico   s/m     1.0     1\n",
      "1  ciudad de mexico   s/m     1.0     2\n",
      "2  ciudad de mexico   s/m     1.0     3\n",
      "3  ciudad de mexico   s/m     1.1     4\n",
      "4  ciudad de mexico   s/m     1.1     5\n",
      "             estado            producto  precio  rank\n",
      "0  ciudad de mexico  pan blanco bolillo     1.0     1\n",
      "1  ciudad de mexico  pan blanco bolillo     1.0     2\n",
      "2  ciudad de mexico  pan blanco bolillo     1.0     3\n",
      "3  ciudad de mexico  pan blanco bolillo     1.1     4\n",
      "4  ciudad de mexico  pan blanco bolillo     1.1     5\n"
     ]
    }
   ],
   "source": [
    "query_5Top_menor_price_cdmx = '''\n",
    "SELECT *\n",
    "FROM (\n",
    "    SELECT \n",
    "        estado,\n",
    "        marca,\n",
    "        precio,\n",
    "        ROW_NUMBER() OVER (PARTITION BY estado ORDER BY precio ASC) AS rank\n",
    "    FROM df_complete_basicos\n",
    "    WHERE estado = 'ciudad de mexico'\n",
    ") ranked\n",
    "WHERE rank <= 5\n",
    "ORDER BY rank;\n",
    "'''\n",
    "result_5Top_menor_price_cdmx = wr.athena.read_sql_query(query_5Top_menor_price_cdmx, \n",
    "                        database=DATABASE_NAME, \n",
    "                        boto3_session=session)\n",
    "\n",
    "print(result_5Top_menor_price_cdmx)\n",
    "\n",
    "query_5Top_menor_price_cdmx_p = '''\n",
    "SELECT *\n",
    "FROM (\n",
    "    SELECT \n",
    "        estado,\n",
    "        producto,\n",
    "        precio,\n",
    "        ROW_NUMBER() OVER (PARTITION BY estado ORDER BY precio ASC) AS rank\n",
    "    FROM df_complete_basicos\n",
    "    WHERE estado = 'ciudad de mexico'\n",
    ") ranked\n",
    "WHERE rank <= 5\n",
    "ORDER BY rank;\n",
    "'''\n",
    "result_5Top_menor_price_cdmx_p = wr.athena.read_sql_query(query_5Top_menor_price_cdmx_p, \n",
    "                        database=DATABASE_NAME, \n",
    "                        boto3_session=session)\n",
    "\n",
    "print(result_5Top_menor_price_cdmx_p)"
   ]
  },
  {
   "cell_type": "markdown",
   "id": "a68beb05",
   "metadata": {},
   "source": [
    "¿Cuáles son el top 5 de marcas con mayores observaciones? ¿Se parecen a las de nivel por estado? ¿Verifica si te dió lo mismo en Spark?\n"
   ]
  },
  {
   "cell_type": "code",
   "execution_count": 122,
   "id": "c4fc5cf6",
   "metadata": {},
   "outputs": [
    {
     "name": "stdout",
     "output_type": "stream",
     "text": [
      "        marca  observaciones\n",
      "0         s/m        2762039\n",
      "1  la costena        1311439\n",
      "2         fud        1151109\n",
      "3       bimbo         819491\n",
      "4        lala         750135\n"
     ]
    }
   ],
   "source": [
    "query_top_5_marcas = '''\n",
    "SELECT \n",
    "    marca, \n",
    "    COUNT(*) AS observaciones\n",
    "FROM df_complete_basicos\n",
    "GROUP BY marca\n",
    "ORDER BY observaciones DESC\n",
    "LIMIT 5;\n",
    "'''\n",
    "result_top_5_marcas = wr.athena.read_sql_query(query_top_5_marcas, \n",
    "                        database=DATABASE_NAME, \n",
    "                        boto3_session=session)\n",
    "\n",
    "print(result_top_5_marcas)"
   ]
  },
  {
   "cell_type": "markdown",
   "id": "fbfad486",
   "metadata": {},
   "source": [
    "Genera un boxplot por año, para cada una de las top 5 marcas de tu categoría.\n"
   ]
  },
  {
   "cell_type": "code",
   "execution_count": 131,
   "id": "75595caf",
   "metadata": {},
   "outputs": [
    {
     "name": "stdout",
     "output_type": "stream",
     "text": [
      "['s/m', 'la costena', 'fud', 'bimbo', 'lala']\n"
     ]
    }
   ],
   "source": [
    "top5_marcas = result_top_5_marcas['marca'].tolist()\n",
    "print(top_5_marcas)"
   ]
  },
  {
   "cell_type": "code",
   "execution_count": 133,
   "id": "3643604e",
   "metadata": {},
   "outputs": [],
   "source": [
    "query_boxplot = f\"\"\"\n",
    "SELECT \n",
    "    anio,\n",
    "    marca,\n",
    "    precio\n",
    "FROM df_complete_basicos\n",
    "WHERE marca IN ({','.join([f\"'{m}'\" for m in top5_marcas])})\n",
    "  AND precio IS NOT NULL\n",
    "  AND CAST(anio AS INTEGER) BETWEEN 2018 AND 2024\n",
    "\"\"\"\n",
    "\n",
    "df_boxplot = wr.athena.read_sql_query(\n",
    "    sql=query_boxplot,\n",
    "    database=DATABASE_NAME,\n",
    "    boto3_session=session\n",
    ")"
   ]
  },
  {
   "cell_type": "code",
   "execution_count": 134,
   "id": "64dcdb29",
   "metadata": {},
   "outputs": [
    {
     "data": {
      "image/png": "[encoded data removed]",
      "text/plain": [
       "<Figure size 1200x600 with 1 Axes>"
      ]
     },
     "metadata": {},
     "output_type": "display_data"
    }
   ],
   "source": [
    "plt.figure(figsize=(12, 6))\n",
    "sns.boxplot(data=df_boxplot, x='anio', y='precio', hue='marca')\n",
    "plt.title('Boxplot of Prices per Year for Top 5 Marcas')\n",
    "plt.xlabel('Year')\n",
    "plt.ylabel('Price')\n",
    "plt.legend(title='Marca', bbox_to_anchor=(1.05, 1), loc='upper left')\n",
    "plt.tight_layout()\n",
    "plt.show()"
   ]
  },
  {
   "cell_type": "markdown",
   "id": "8f93e9d9",
   "metadata": {},
   "source": [
    "**Nota:** ¡¡¡Lo principal aqui es tu código de SQL para construir las tablas!!! Eso es lo que voy a calificar. R y Pandas, están ahi para que puedas gráficar y hacer tus tablas bonitas en el reporte, OJO no para sacar las estadísticas.\n",
    "\n",
    "**Hint:** Guarda tus consultas en archivos que puedas guardar en S3 y luego leer desde Pandas o RStudio, para hacer tus gráficas o cuadros compartivos."
   ]
  }
 ],
 "metadata": {
  "kernelspec": {
   "display_name": "arquitectura",
   "language": "python",
   "name": "python3"
  },
  "language_info": {
   "codemirror_mode": {
    "name": "ipython",
    "version": 3
   },
   "file_extension": ".py",
   "mimetype": "text/x-python",
   "name": "python",
   "nbconvert_exporter": "python",
   "pygments_lexer": "ipython3",
   "version": "3.11.11"
  }
 },
 "nbformat": 4,
 "nbformat_minor": 5
}
