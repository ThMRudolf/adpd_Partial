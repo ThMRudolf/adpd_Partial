{
 "cells": [
  {
   "cell_type": "markdown",
   "id": "d9ef6073",
   "metadata": {},
   "source": [
    "\n",
    "## Parte B\n",
    "Apaguen su cluster de EMR, en esta parte no lo necesitarán. Para esta parte utilizaremos Athena.\n",
    "\n",
    "Crea una base de datos profeco_db en Athena.\n"
   ]
  },
  {
   "cell_type": "markdown",
   "id": "af717467",
   "metadata": {},
   "source": [
    "Crea una tabla externa profeco dentro de la base de datos profeco_db.\n",
    "¡¡¡Recuerda crear la tabla profeco con la tabla particionada, de otra forma tus queries van a ser costosos!!!.\n"
   ]
  },
  {
   "cell_type": "markdown",
   "id": "889389fb",
   "metadata": {},
   "source": [
    "A partir de la siguiente pregunta utiliza Athena desde R o Python:\n",
    "De acuerdo a la categoría que te haya tocado obtén (desde 2018 a 2022):\n",
    "\n",
    "¿De qué año a qué año tienen datos de esa categoría?\n"
   ]
  },
  {
   "cell_type": "markdown",
   "id": "436af186",
   "metadata": {},
   "source": [
    "¿Cuántos registros de fecha hay vacíos?\n"
   ]
  },
  {
   "cell_type": "markdown",
   "id": "7895537e",
   "metadata": {},
   "source": [
    "¿Cuántos registros tienes por año?\n"
   ]
  },
  {
   "cell_type": "markdown",
   "id": "91bbd4aa",
   "metadata": {},
   "source": [
    "¿Cuál es el precio mínimo, máximo, promedio, desviación estándar, mediana,\n"
   ]
  },
  {
   "cell_type": "markdown",
   "id": "48e52da4",
   "metadata": {},
   "source": [
    "¿Cuantil 25 y 75% de tu categoría por año?\n"
   ]
  },
  {
   "cell_type": "markdown",
   "id": "11055123",
   "metadata": {},
   "source": [
    "¿Cuáles son el top 5 de marcas con mayor precio en cada estado? ¿Verifica si te dió lo mismo en Spark?\n"
   ]
  },
  {
   "cell_type": "markdown",
   "id": "3c87782e",
   "metadata": {},
   "source": [
    "¿Cuáles son el top 5 de marcas con menor precio en CDMX? (en aquel entonces Distrito Federal) ¿Verifica si te dió lo mismo en Spark?\n"
   ]
  },
  {
   "cell_type": "markdown",
   "id": "a68beb05",
   "metadata": {},
   "source": [
    "¿Cuáles son el top 5 de marcas con mayores observaciones? ¿Se parecen a las de nivel por estado? ¿Verifica si te dió lo mismo en Spark?\n"
   ]
  },
  {
   "cell_type": "markdown",
   "id": "fbfad486",
   "metadata": {},
   "source": [
    "Genera un boxplot por año, para cada una de las top 5 marcas de tu categoría.\n"
   ]
  },
  {
   "cell_type": "markdown",
   "id": "8f93e9d9",
   "metadata": {},
   "source": [
    "**Nota:** ¡¡¡Lo principal aqui es tu código de SQL para construir las tablas!!! Eso es lo que voy a calificar. R y Pandas, están ahi para que puedas gráficar y hacer tus tablas bonitas en el reporte, OJO no para sacar las estadísticas.\n",
    "\n",
    "**Hint:** Guarda tus consultas en archivos que puedas guardar en S3 y luego leer desde Pandas o RStudio, para hacer tus gráficas o cuadros compartivos."
   ]
  }
 ],
 "metadata": {
  "language_info": {
   "name": "python"
  }
 },
 "nbformat": 4,
 "nbformat_minor": 5
}
